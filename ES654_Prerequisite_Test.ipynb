{
 "cells": [
  {
   "cell_type": "markdown",
   "metadata": {
    "id": "Cp_TqpM6wP7H"
   },
   "source": [
    "### Answer 1\n",
    "Let $C = AB$, where $A$, $B$ and $C$ have shapes $(n, k)$, $(k,m)$ and $(n,m)$ respectively. Then the $(i, j)^{th}$ element of $c$ is given by the dot product of the $i^{th}$ row of A with the $j^{th}$ column of $B$ \n",
    "\n",
    "$$ c_{i,j} = \\sum_{l=1}^{k} A_{i,l}B_{l,j}$$\n",
    "\n",
    "$C$ has $n \\times m$ elements in total. Computing each element requires $k$ multiplications and $k-1$ additions. So, \n",
    "* The number of multiplications required is $n\\times m\\times k$\n",
    "* The number of additions required is $n\\times m \\times (k-1)$\n",
    "\n",
    "The total number of operations required is $\\mathcal{O}(mnk)$."
   ]
  },
  {
   "cell_type": "markdown",
   "metadata": {
    "id": "iF20P-t1zyXK"
   },
   "source": [
    "### Answer 2\n",
    "\n",
    "A python code that multiplies the above two matrices given in the list of lists format is shown below."
   ]
  },
  {
   "cell_type": "code",
   "execution_count": 1,
   "metadata": {
    "id": "K3XqiKqCv6ci"
   },
   "outputs": [],
   "source": [
    "def matmul_lol(A, B):\n",
    "    n = len(A)\n",
    "    k = len(B)\n",
    "    # for i in range(n):\n",
    "    #     if len(A[i]) != k:\n",
    "    #         raise ValueError(\"A is inconsistent for multiplication with B!\")\n",
    "    #         return None\n",
    "    m = len(B[0])\n",
    "    # for i in range(1, k):\n",
    "    #     if len(B[i]) != m:\n",
    "    #         raise ValueError(\"B has rows of unequal size!\")\n",
    "    #         return None\n",
    "    C = [[0 for _ in range(m)] for _ in range(n)]\n",
    "    for i in range(n):\n",
    "        for j in range(m):\n",
    "            for l in range(k):\n",
    "                C[i][j] += A[i][l] * B[l][j]\n",
    "    return C"
   ]
  },
  {
   "cell_type": "markdown",
   "metadata": {
    "id": "Qkzq1_dq4VYS"
   },
   "source": [
    "I will multiply random matrices created using the `np.random.randint` function, after fixing the parameters $n,k$ and $m$ to some reasonable values."
   ]
  },
  {
   "cell_type": "code",
   "execution_count": 2,
   "metadata": {
    "colab": {
     "base_uri": "https://localhost:8080/"
    },
    "id": "QUiu9E4O3a3l",
    "outputId": "adf75bef-4d40-4ea0-8a30-3fec1f37d878"
   },
   "outputs": [
    {
     "name": "stdout",
     "output_type": "stream",
     "text": [
      "1.08 ms ± 99.2 µs per loop (mean ± std. dev. of 7 runs, 100 loops each)\n",
      "113 ms ± 13.3 ms per loop (mean ± std. dev. of 7 runs, 100 loops each)\n"
     ]
    }
   ],
   "source": [
    "n = 100\n",
    "k = 100\n",
    "m = 100\n",
    "\n",
    "import numpy as np\n",
    "\n",
    "A = np.random.randint(0,10,(n,k))\n",
    "B = np.random.randint(0,10,(k,m))\n",
    "\n",
    "A_lol = [[int(elem) for elem in row] for row in A]\n",
    "B_lol = [[int(elem) for elem in row] for row in B]\n",
    "\n",
    "%timeit -n 100 C = A@B\n",
    "%timeit -n 100 C_lol = matmul_lol(A_lol, B_lol)"
   ]
  },
  {
   "cell_type": "markdown",
   "metadata": {
    "id": "aAXNuYLfAo_d"
   },
   "source": [
    "Numpy is about $200\\times$ faster than naive Python implementation."
   ]
  },
  {
   "cell_type": "markdown",
   "metadata": {
    "id": "d_Wj6WM8BBqJ"
   },
   "source": [
    "### Answer 3\n",
    "\n",
    "When $n$ is odd, the median is the $⌈n/2⌉^{th}$ largest element in an $n$-element array. Otherwise it's the mean of the middle two elements.\n",
    "\n",
    "Successively finding the next largest element till we reach the median will require $\\mathcal{O}(n^2)$ units of time. This is because finding the $k^{th}$ largest element will require $k$ passes over the array, each requiring $n$ comparisons for a time complexity of $\\mathcal{O}(nk)$. Setting $k = ⌈n/2⌉$, we get $\\mathcal{O}(n^2)$\n",
    "\n",
    "The code for this approach is given below."
   ]
  },
  {
   "cell_type": "code",
   "execution_count": 3,
   "metadata": {
    "id": "T0hbcbeP6OSZ"
   },
   "outputs": [],
   "source": [
    "def median_naive(A):\n",
    "    n = len(A)\n",
    "    if n%2 == 1:\n",
    "        k = n//2 + 1\n",
    "        d = [0]*n # keeps track of what is done\n",
    "        for i in range(k):\n",
    "            m = d.index(0)\n",
    "            for j in range(n):\n",
    "                if d[j] == 1:\n",
    "                    continue\n",
    "                if A[j] > A[m]:\n",
    "                    m = j\n",
    "            d[m] = 1\n",
    "        return A[m]\n",
    "    else:\n",
    "        k = n//2 + 1\n",
    "        d = [0]*n # keeps track of what is done\n",
    "        for i in range(1, k+1):\n",
    "            m = d.index(0)\n",
    "            for j in range(n):\n",
    "                if d[j] == 1:\n",
    "                    continue\n",
    "                if A[j] > A[m]:\n",
    "                    m = j\n",
    "            d[m] = 1\n",
    "            if i == k-1:\n",
    "                m_prev = m\n",
    "        return (A[m] + A[m_prev])/2"
   ]
  },
  {
   "cell_type": "markdown",
   "metadata": {
    "id": "3gUcixagPF-w"
   },
   "source": [
    "A better approach would be to use Python's built-in sorting function `sorted` which runs in worst-case $\\mathcal{O}(n\\log(n))$ time."
   ]
  },
  {
   "cell_type": "code",
   "execution_count": 4,
   "metadata": {
    "id": "kjtWtvN9PGfH"
   },
   "outputs": [],
   "source": [
    "def median_better(A):\n",
    "    n = len(A)\n",
    "    A_sorted = sorted(A)\n",
    "    if n%2 == 1:\n",
    "        return A_sorted[n//2]\n",
    "    else:\n",
    "        return (A_sorted[n//2] + A_sorted[n//2 - 1])/2"
   ]
  },
  {
   "cell_type": "markdown",
   "metadata": {
    "id": "H8mwc5snQFXB"
   },
   "source": [
    "Comparing both against `np.median`, we see that it is about $10 \\times$ faster than the sorting approach and $3000\\times$ faster than the naive approach."
   ]
  },
  {
   "cell_type": "code",
   "execution_count": 5,
   "metadata": {
    "colab": {
     "base_uri": "https://localhost:8080/"
    },
    "id": "fkLEL9ZJQLYc",
    "outputId": "23e7f57e-fe66-4e88-87ab-b318c354c35f"
   },
   "outputs": [
    {
     "name": "stdout",
     "output_type": "stream",
     "text": [
      "21.4 µs ± 12.9 µs per loop (mean ± std. dev. of 7 runs, 100 loops each)\n",
      "162 µs ± 9.2 µs per loop (mean ± std. dev. of 7 runs, 100 loops each)\n",
      "75.6 ms ± 686 µs per loop (mean ± std. dev. of 7 runs, 100 loops each)\n"
     ]
    }
   ],
   "source": [
    "A = np.random.randint(-100, 100, 1000)\n",
    "\n",
    "%timeit -n 100 np.median(A)\n",
    "%timeit -n 100 median_better(A)\n",
    "%timeit -n 100 median_naive(A)"
   ]
  },
  {
   "cell_type": "markdown",
   "metadata": {
    "id": "FJEJo6gdmS2_"
   },
   "source": [
    "### Answer 4\n",
    "\n",
    "Let $f(x, y) = x^2y+y^3\\sin(x)$. Then the gradient of $f$ is given by $$\\overrightarrow{\\nabla}f = \\begin{bmatrix} \\dfrac{\\partial f}{\\partial x} \\\\ \\dfrac{\\partial f}{\\partial y} \\end{bmatrix} = \\begin{bmatrix} 2xy + y^3 \\cos(x) \\\\ x^2 + 3y^2\\sin(x)\\end{bmatrix} = (2xy + y^3 \\cos(x))\\hat{\\textbf{i}} + (x^2 + 3y^2\\sin(x))\\hat{\\textbf{j}}$$ where $\\hat{\\textbf{i}} = \\begin{bmatrix} 1 \\\\ 0 \\end{bmatrix}$ and $\\hat{\\textbf{j}} = \\begin{bmatrix} 0 \\\\ 1 \\end{bmatrix}$"
   ]
  },
  {
   "cell_type": "markdown",
   "metadata": {
    "id": "1HS-BGfBr_gf"
   },
   "source": [
    "### Answer 5\n",
    "\n",
    "Using `JAX` to check the gradient. We see that the values agree upto at most 6 decimal places."
   ]
  },
  {
   "cell_type": "code",
   "execution_count": 1,
   "metadata": {
    "colab": {
     "base_uri": "https://localhost:8080/"
    },
    "id": "QsC2UYO9sG-2",
    "outputId": "d348a0be-f515-449b-d838-decc4fac45ff"
   },
   "outputs": [
    {
     "name": "stderr",
     "output_type": "stream",
     "text": [
      "WARNING:jax._src.lib.xla_bridge:No GPU/TPU found, falling back to CPU. (Set TF_CPP_MIN_LOG_LEVEL=0 and rerun for more info.)\n"
     ]
    },
    {
     "name": "stdout",
     "output_type": "stream",
     "text": [
      "x = 2.51819 y = 7.57667\n",
      "Analytical \t [-314.9708802912677, 106.88246070700524]\n",
      "JAX \t\t [-314.97088623046875, 106.8824462890625]\n",
      "\n",
      "x = 7.77362 y = 8.44658\n",
      "Analytical \t [179.6982612594731, 273.7723648422972]\n",
      "JAX \t\t [179.69815063476562, 273.7723693847656]\n",
      "\n",
      "x = 2.51592 y = 5.29283\n",
      "Analytical \t [-93.55378718900305, 55.54842135131192]\n",
      "JAX \t\t [-93.55377197265625, 55.54841613769531]\n",
      "\n",
      "x = 2.11358 y = 4.24716\n",
      "Analytical \t [-21.618247568090062, 50.804679953926794]\n",
      "JAX \t\t [-21.618240356445312, 50.8046760559082]\n",
      "\n",
      "x = 9.24593 y = 9.26794\n",
      "Analytical \t [-611.9868349711265, 131.3289260740692]\n",
      "JAX \t\t [-611.9867553710938, 131.32891845703125]\n",
      "\n",
      "x = 6.21470 y = 0.49157\n",
      "Analytical \t [6.228379669331018, 38.572912812630456]\n",
      "JAX \t\t [6.228379726409912, 38.57291030883789]\n",
      "\n",
      "x = 3.37961 y = 3.23079\n",
      "Analytical \t [-10.934563059639046, 4.038649673710025]\n",
      "JAX \t\t [-10.934568405151367, 4.03864860534668]\n",
      "\n",
      "x = 1.08894 y = 4.70294\n",
      "Analytical \t [58.44735957381668, 59.98337685815774]\n",
      "JAX \t\t [58.447364807128906, 59.98338317871094]\n",
      "\n",
      "x = 1.36237 y = 0.74929\n",
      "Analytical \t [2.128668729503885, 3.5039128394155052]\n",
      "JAX \t\t [2.128668785095215, 3.503912925720215]\n",
      "\n",
      "x = 0.88350 y = 0.01541\n",
      "Analytical \t [0.027226417940877583, 0.7811154128456806]\n",
      "JAX \t\t [0.027226418256759644, 0.7811154127120972]\n",
      "\n"
     ]
    }
   ],
   "source": [
    "from jax import grad\n",
    "import jax.numpy as jnp\n",
    "import numpy as np\n",
    "\n",
    "def f(x):\n",
    "    return x[0]**2 * x[1] + x[1]**3 * jnp.sin(x[0])\n",
    "\n",
    "def grad_f(x):\n",
    "    return [2*x[0]*x[1] + x[1]**3*np.cos(x[0]), x[0]**2 + 3*x[1]**2*np.sin(x[0])]\n",
    "\n",
    "jax_grad_f = grad(f)\n",
    "\n",
    "for _ in range(10):\n",
    "    x = np.random.uniform(0, 10, 2)\n",
    "    print(\"x = {:.5f} y = {:.5f}\".format(x[0], x[1]))\n",
    "    devarr = jax_grad_f(x)\n",
    "    jax_list = [float(y) for y in devarr]\n",
    "    print(\"Analytical \\t\", grad_f(x))\n",
    "    print(\"JAX \\t\\t\", jax_list, end='\\n\\n')"
   ]
  },
  {
   "cell_type": "markdown",
   "metadata": {
    "id": "1ZQoZdYbsW-B"
   },
   "source": [
    "### Answer 6\n",
    "\n",
    "Defining `x` and `y` to be symbols and then evaluating gradient using the formula involving parital derivatives."
   ]
  },
  {
   "cell_type": "code",
   "execution_count": 2,
   "metadata": {
    "colab": {
     "base_uri": "https://localhost:8080/",
     "height": 58
    },
    "id": "FC6W9XouIMCg",
    "outputId": "b733b883-9b47-487d-effd-122dfbecfd18"
   },
   "outputs": [
    {
     "data": {
      "text/latex": [
       "$\\displaystyle \\left[\\begin{matrix}2 x y + y^{3} \\cos{\\left(x \\right)}\\\\x^{2} + 3 y^{2} \\sin{\\left(x \\right)}\\end{matrix}\\right]$"
      ],
      "text/plain": [
       "Matrix([\n",
       "[ 2*x*y + y**3*cos(x)],\n",
       "[x**2 + 3*y**2*sin(x)]])"
      ]
     },
     "execution_count": 2,
     "metadata": {},
     "output_type": "execute_result"
    }
   ],
   "source": [
    "from sympy import symbols, sin, diff, Matrix\n",
    "\n",
    "x, y = symbols('x y')\n",
    "f = x**2 * y + y**3 * sin(x)\n",
    "grad_f = Matrix([[diff(f, x)], [diff(f, y)]])\n",
    "grad_f"
   ]
  },
  {
   "cell_type": "markdown",
   "metadata": {
    "id": "YRh1Z8zjIMqv"
   },
   "source": [
    "Using `sympy.vector.gradient` to directly evaluate the gradient of $f$."
   ]
  },
  {
   "cell_type": "code",
   "execution_count": 3,
   "metadata": {
    "colab": {
     "base_uri": "https://localhost:8080/",
     "height": 39
    },
    "id": "P_40UhZ2sqrD",
    "outputId": "ef25f57d-40fb-4f05-b18b-f344022de076"
   },
   "outputs": [
    {
     "data": {
      "text/latex": [
       "$\\displaystyle \\left(2 \\mathbf{{x}_{R}} \\mathbf{{y}_{R}} + \\mathbf{{y}_{R}}^{3} \\cos{\\left(\\mathbf{{x}_{R}} \\right)}\\right)\\mathbf{\\hat{i}_{R}} + \\left(\\mathbf{{x}_{R}}^{2} + 3 \\mathbf{{y}_{R}}^{2} \\sin{\\left(\\mathbf{{x}_{R}} \\right)}\\right)\\mathbf{\\hat{j}_{R}}$"
      ],
      "text/plain": [
       "(2*R.x*R.y + R.y**3*cos(R.x))*R.i + (R.x**2 + 3*R.y**2*sin(R.x))*R.j"
      ]
     },
     "execution_count": 3,
     "metadata": {},
     "output_type": "execute_result"
    }
   ],
   "source": [
    "from sympy.vector import CoordSys3D, gradient\n",
    "\n",
    "R = CoordSys3D('R')\n",
    "f = R.x**2 * R.y + R.y**3 * sin(R.x)\n",
    "gradient(f)"
   ]
  },
  {
   "cell_type": "markdown",
   "metadata": {
    "id": "7sjZ_DLxHViu"
   },
   "source": [
    "### Answer 7\n",
    "\n",
    "There are 4 years, 2022 to 2025. Each year has 2 branches, STEM and Arts. Each branch has 5 students for which we are storing their Roll No., Name and Marks in 3 subjects. Below are some helper functions."
   ]
  },
  {
   "cell_type": "code",
   "execution_count": 4,
   "metadata": {
    "id": "7z9aEUClNGHL"
   },
   "outputs": [],
   "source": [
    "try:\n",
    "    f = open('first-names.txt', 'r')\n",
    "    first_names = f.readlines()\n",
    "    first_names = [name[:-1] for name in first_names]\n",
    "    f.close()\n",
    "\n",
    "    f = open('last-names.txt', 'r')\n",
    "    last_names = f.readlines()\n",
    "    last_names = [name[:-1] for name in last_names]\n",
    "    f.close()\n",
    "\n",
    "    def randname():\n",
    "        return np.random.choice(first_names) + ' ' + np.random.choice(last_names)\n",
    "\n",
    "except:\n",
    "    def randname():\n",
    "        return ''.join(list(map(chr, np.random.randint(97,123,np.random.randint(5, 10)))))\n",
    "\n",
    "\n",
    "\n",
    "def get_rollNo(year, branch, id):\n",
    "    return int(str(year)[-2:] + str(branch) + '0'*(4-len(list(str(id)))) + str(id))"
   ]
  },
  {
   "cell_type": "markdown",
   "metadata": {
    "id": "nqNFaP8qXSf6"
   },
   "source": [
    "Generating the nested dictionary using nested loops, using random names and random marks."
   ]
  },
  {
   "cell_type": "code",
   "execution_count": 5,
   "metadata": {
    "id": "1lVTNUq-HYQr"
   },
   "outputs": [],
   "source": [
    "n_students = 10\n",
    "n_years = 4\n",
    "\n",
    "years = list(range(2022, 2022 + n_years))\n",
    "branches = ['STEM', 'Arts']\n",
    "subjects = [['Maths', 'Physics', 'English'], ['History', 'Society', 'Literature']]\n",
    "\n",
    "D = {}\n",
    "for year in years:\n",
    "    year_dict = {}\n",
    "    for i, branch in enumerate(branches):\n",
    "        names_dict = {}\n",
    "        for j in range(n_students):\n",
    "            marks = list(map(int, np.random.normal(60, 15, 3)))\n",
    "            marks_dict = {}\n",
    "            for k, mark in enumerate(marks):\n",
    "                marks_dict[subjects[i][k]] = marks[k]\n",
    "            names_dict.update({j+1:{'Marks':marks_dict, 'Roll Number':get_rollNo(year, i+1, j+1), 'Name':randname()}})\n",
    "        year_dict.update({branch:names_dict})\n",
    "    D.update({year:year_dict})"
   ]
  },
  {
   "cell_type": "code",
   "execution_count": 6,
   "metadata": {
    "colab": {
     "base_uri": "https://localhost:8080/"
    },
    "id": "Qu-Crg6AUZmH",
    "outputId": "45ddfbe0-d511-481e-b8e4-63ab923e0886"
   },
   "outputs": [
    {
     "name": "stdout",
     "output_type": "stream",
     "text": [
      "{   2022: {   'Arts': {   1: {   'Marks': {   'History': 68,\n",
      "                                              'Literature': 70,\n",
      "                                              'Society': 54},\n",
      "                                 'Name': 'Hyacinthe Allen',\n",
      "                                 'Roll Number': 2220001},\n",
      "                          2: {   'Marks': {   'History': 51,\n",
      "                                              'Literature': 31,\n",
      "                                              'Society': 45},\n",
      "                                 'Name': 'Sula Anderson',\n",
      "                                 'Roll Number': 2220002},\n",
      "                          3: {   'Marks': {   'History': 50,\n",
      "                                              'Literature': 82,\n",
      "                                              'Society': 65},\n",
      "                                 'Name': 'Ashly Martinez',\n",
      "                                 'Roll Number': 2220003},\n",
      "                          4: {   'Marks': {   'History': 83,\n",
      "                                              'Literature': 84,\n",
      "                                              'Society': 54},\n",
      "                                 'Name': 'Dee Smith',\n",
      "                                 'Roll Number': 2220004},\n",
      "                          5: {   'Marks': {   'History': 63,\n",
      "                                              'Literature': 50,\n",
      "                                              'Society': 55},\n",
      "                                 'Name': 'Anthiathia Flores',\n",
      "                                 'Roll Number': 2220005},\n",
      "                          6: {   'Marks': {   'History': 52,\n",
      "                                              'Literature': 81,\n",
      "                                              'Society': 43},\n",
      "                                 'Name': 'Michel Scott',\n",
      "                                 'Roll Number': 2220006},\n",
      "                          7: {   'Marks': {   'History': 49,\n",
      "                                              'Literature': 82,\n",
      "                                              'Society': 70},\n",
      "                                 'Name': 'Annecorinne Moore',\n",
      "                                 'Roll Number': 2220007},\n",
      "                          8: {   'Marks': {   'History': 70,\n",
      "                                              'Literature': 69,\n",
      "                                              'Society': 61},\n",
      "                                 'Name': 'Marie-Jeanne Wilson',\n",
      "                                 'Roll Number': 2220008},\n",
      "                          9: {   'Marks': {   'History': 57,\n",
      "                                              'Literature': 61,\n",
      "                                              'Society': 48},\n",
      "                                 'Name': 'Erica Hernandez',\n",
      "                                 'Roll Number': 2220009},\n",
      "                          10: {   'Marks': {   'History': 79,\n",
      "                                               'Literature': 84,\n",
      "                                               'Society': 46},\n",
      "                                  'Name': 'Ekaterina Nguyen',\n",
      "                                  'Roll Number': 2220010}},\n",
      "              'STEM': {   1: {   'Marks': {   'English': 31,\n",
      "                                              'Maths': 75,\n",
      "                                              'Physics': 62},\n",
      "                                 'Name': 'Janie Thompson',\n",
      "                                 'Roll Number': 2210001},\n",
      "                          2: {   'Marks': {   'English': 48,\n",
      "                                              'Maths': 30,\n",
      "                                              'Physics': 78},\n",
      "                                 'Name': 'Perry Harris',\n",
      "                                 'Roll Number': 2210002},\n",
      "                          3: {   'Marks': {   'English': 47,\n",
      "                                              'Maths': 66,\n",
      "                                              'Physics': 68},\n",
      "                                 'Name': 'Melany Rivera',\n",
      "                                 'Roll Number': 2210003},\n",
      "                          4: {   'Marks': {   'English': 83,\n",
      "                                              'Maths': 66,\n",
      "                                              'Physics': 42},\n",
      "                                 'Name': 'Theodosia Carter',\n",
      "                                 'Roll Number': 2210004},\n",
      "                          5: {   'Marks': {   'English': 56,\n",
      "                                              'Maths': 77,\n",
      "                                              'Physics': 64},\n",
      "                                 'Name': 'Kania Garcia',\n",
      "                                 'Roll Number': 2210005},\n",
      "                          6: {   'Marks': {   'English': 45,\n",
      "                                              'Maths': 88,\n",
      "                                              'Physics': 62},\n",
      "                                 'Name': 'Laurel Smith',\n",
      "                                 'Roll Number': 2210006},\n",
      "                          7: {   'Marks': {   'English': 53,\n",
      "                                              'Maths': 67,\n",
      "                                              'Physics': 64},\n",
      "                                 'Name': 'Corey Harris',\n",
      "                                 'Roll Number': 2210007},\n",
      "                          8: {   'Marks': {   'English': 76,\n",
      "                                              'Maths': 75,\n",
      "                                              'Physics': 72},\n",
      "                                 'Name': 'Rosa Smith',\n",
      "                                 'Roll Number': 2210008},\n",
      "                          9: {   'Marks': {   'English': 51,\n",
      "                                              'Maths': 77,\n",
      "                                              'Physics': 45},\n",
      "                                 'Name': 'Chris Miller',\n",
      "                                 'Roll Number': 2210009},\n",
      "                          10: {   'Marks': {   'English': 70,\n",
      "                                               'Maths': 49,\n",
      "                                               'Physics': 74},\n",
      "                                  'Name': 'Merline Rivera',\n",
      "                                  'Roll Number': 2210010}}},\n",
      "    2023: {   'Arts': {   1: {   'Marks': {   'History': 54,\n",
      "                                              'Literature': 76,\n",
      "                                              'Society': 57},\n",
      "                                 'Name': 'Vita Sanchez',\n",
      "                                 'Roll Number': 2320001},\n",
      "                          2: {   'Marks': {   'History': 80,\n",
      "                                              'Literature': 66,\n",
      "                                              'Society': 69},\n",
      "                                 'Name': 'Nettie Smith',\n",
      "                                 'Roll Number': 2320002},\n",
      "                          3: {   'Marks': {   'History': 54,\n",
      "                                              'Literature': 41,\n",
      "                                              'Society': 58},\n",
      "                                 'Name': 'Gusta Rivera',\n",
      "                                 'Roll Number': 2320003},\n",
      "                          4: {   'Marks': {   'History': 49,\n",
      "                                              'Literature': 53,\n",
      "                                              'Society': 63},\n",
      "                                 'Name': 'Lolly Nguyen',\n",
      "                                 'Roll Number': 2320004},\n",
      "                          5: {   'Marks': {   'History': 71,\n",
      "                                              'Literature': 43,\n",
      "                                              'Society': 57},\n",
      "                                 'Name': 'Randy Garcia',\n",
      "                                 'Roll Number': 2320005},\n",
      "                          6: {   'Marks': {   'History': 63,\n",
      "                                              'Literature': 73,\n",
      "                                              'Society': 91},\n",
      "                                 'Name': 'Zenia Ramirez',\n",
      "                                 'Roll Number': 2320006},\n",
      "                          7: {   'Marks': {   'History': 65,\n",
      "                                              'Literature': 44,\n",
      "                                              'Society': 33},\n",
      "                                 'Name': 'Beckie Flores',\n",
      "                                 'Roll Number': 2320007},\n",
      "                          8: {   'Marks': {   'History': 78,\n",
      "                                              'Literature': 39,\n",
      "                                              'Society': 66},\n",
      "                                 'Name': 'Chastity Lee',\n",
      "                                 'Roll Number': 2320008},\n",
      "                          9: {   'Marks': {   'History': 51,\n",
      "                                              'Literature': 77,\n",
      "                                              'Society': 38},\n",
      "                                 'Name': 'Margaretha Brown',\n",
      "                                 'Roll Number': 2320009},\n",
      "                          10: {   'Marks': {   'History': 58,\n",
      "                                               'Literature': 62,\n",
      "                                               'Society': 42},\n",
      "                                  'Name': 'Louella Johnson',\n",
      "                                  'Roll Number': 2320010}},\n",
      "              'STEM': {   1: {   'Marks': {   'English': 61,\n",
      "                                              'Maths': 22,\n",
      "                                              'Physics': 47},\n",
      "                                 'Name': 'Olimpia Baker',\n",
      "                                 'Roll Number': 2310001},\n",
      "                          2: {   'Marks': {   'English': 82,\n",
      "                                              'Maths': 24,\n",
      "                                              'Physics': 48},\n",
      "                                 'Name': 'Isabel Clark',\n",
      "                                 'Roll Number': 2310002},\n",
      "                          3: {   'Marks': {   'English': 60,\n",
      "                                              'Maths': 58,\n",
      "                                              'Physics': 67},\n",
      "                                 'Name': 'Laverna White',\n",
      "                                 'Roll Number': 2310003},\n",
      "                          4: {   'Marks': {   'English': 75,\n",
      "                                              'Maths': 85,\n",
      "                                              'Physics': 88},\n",
      "                                 'Name': 'Emelita Carter',\n",
      "                                 'Roll Number': 2310004},\n",
      "                          5: {   'Marks': {   'English': 49,\n",
      "                                              'Maths': 21,\n",
      "                                              'Physics': 85},\n",
      "                                 'Name': 'Bobbette Martinez',\n",
      "                                 'Roll Number': 2310005},\n",
      "                          6: {   'Marks': {   'English': 27,\n",
      "                                              'Maths': 59,\n",
      "                                              'Physics': 72},\n",
      "                                 'Name': 'Lauraine King',\n",
      "                                 'Roll Number': 2310006},\n",
      "                          7: {   'Marks': {   'English': 80,\n",
      "                                              'Maths': 78,\n",
      "                                              'Physics': 37},\n",
      "                                 'Name': 'Emmalynne Nelson',\n",
      "                                 'Roll Number': 2310007},\n",
      "                          8: {   'Marks': {   'English': 57,\n",
      "                                              'Maths': 88,\n",
      "                                              'Physics': 47},\n",
      "                                 'Name': 'Abbie Campbell',\n",
      "                                 'Roll Number': 2310008},\n",
      "                          9: {   'Marks': {   'English': 36,\n",
      "                                              'Maths': 26,\n",
      "                                              'Physics': 47},\n",
      "                                 'Name': 'Mellie Smith',\n",
      "                                 'Roll Number': 2310009},\n",
      "                          10: {   'Marks': {   'English': 61,\n",
      "                                               'Maths': 48,\n",
      "                                               'Physics': 61},\n",
      "                                  'Name': 'Deny Allen',\n",
      "                                  'Roll Number': 2310010}}},\n",
      "    2024: {   'Arts': {   1: {   'Marks': {   'History': 43,\n",
      "                                              'Literature': 85,\n",
      "                                              'Society': 70},\n",
      "                                 'Name': 'Minda Walker',\n",
      "                                 'Roll Number': 2420001},\n",
      "                          2: {   'Marks': {   'History': 94,\n",
      "                                              'Literature': 61,\n",
      "                                              'Society': 67},\n",
      "                                 'Name': 'Kathye Harris',\n",
      "                                 'Roll Number': 2420002},\n",
      "                          3: {   'Marks': {   'History': 51,\n",
      "                                              'Literature': 63,\n",
      "                                              'Society': 68},\n",
      "                                 'Name': 'Olly Nelson',\n",
      "                                 'Roll Number': 2420003},\n",
      "                          4: {   'Marks': {   'History': 67,\n",
      "                                              'Literature': 76,\n",
      "                                              'Society': 42},\n",
      "                                 'Name': 'Dorri Rivera',\n",
      "                                 'Roll Number': 2420004},\n",
      "                          5: {   'Marks': {   'History': 65,\n",
      "                                              'Literature': 51,\n",
      "                                              'Society': 64},\n",
      "                                 'Name': 'Haleigh Wilson',\n",
      "                                 'Roll Number': 2420005},\n",
      "                          6: {   'Marks': {   'History': 48,\n",
      "                                              'Literature': 76,\n",
      "                                              'Society': 42},\n",
      "                                 'Name': 'Gerta Green',\n",
      "                                 'Roll Number': 2420006},\n",
      "                          7: {   'Marks': {   'History': 47,\n",
      "                                              'Literature': 39,\n",
      "                                              'Society': 51},\n",
      "                                 'Name': 'Jacquie Martin',\n",
      "                                 'Roll Number': 2420007},\n",
      "                          8: {   'Marks': {   'History': 52,\n",
      "                                              'Literature': 62,\n",
      "                                              'Society': 56},\n",
      "                                 'Name': 'Fleur Hernandez',\n",
      "                                 'Roll Number': 2420008},\n",
      "                          9: {   'Marks': {   'History': 70,\n",
      "                                              'Literature': 54,\n",
      "                                              'Society': 23},\n",
      "                                 'Name': 'Jany Jones',\n",
      "                                 'Roll Number': 2420009},\n",
      "                          10: {   'Marks': {   'History': 70,\n",
      "                                               'Literature': 83,\n",
      "                                               'Society': 67},\n",
      "                                  'Name': 'Basia Sanchez',\n",
      "                                  'Roll Number': 2420010}},\n",
      "              'STEM': {   1: {   'Marks': {   'English': 57,\n",
      "                                              'Maths': 58,\n",
      "                                              'Physics': 63},\n",
      "                                 'Name': 'Billie Nelson',\n",
      "                                 'Roll Number': 2410001},\n",
      "                          2: {   'Marks': {   'English': 88,\n",
      "                                              'Maths': 68,\n",
      "                                              'Physics': 85},\n",
      "                                 'Name': 'Kettie Torres',\n",
      "                                 'Roll Number': 2410002},\n",
      "                          3: {   'Marks': {   'English': 45,\n",
      "                                              'Maths': 58,\n",
      "                                              'Physics': 45},\n",
      "                                 'Name': 'Felisha Carter',\n",
      "                                 'Roll Number': 2410003},\n",
      "                          4: {   'Marks': {   'English': 45,\n",
      "                                              'Maths': 50,\n",
      "                                              'Physics': 90},\n",
      "                                 'Name': 'Gweneth Lewis',\n",
      "                                 'Roll Number': 2410004},\n",
      "                          5: {   'Marks': {   'English': 65,\n",
      "                                              'Maths': 48,\n",
      "                                              'Physics': 54},\n",
      "                                 'Name': 'Krysta Gonzalez',\n",
      "                                 'Roll Number': 2410005},\n",
      "                          6: {   'Marks': {   'English': 52,\n",
      "                                              'Maths': 57,\n",
      "                                              'Physics': 79},\n",
      "                                 'Name': 'Irina Harris',\n",
      "                                 'Roll Number': 2410006},\n",
      "                          7: {   'Marks': {   'English': 54,\n",
      "                                              'Maths': 65,\n",
      "                                              'Physics': 75},\n",
      "                                 'Name': 'Josi King',\n",
      "                                 'Roll Number': 2410007},\n",
      "                          8: {   'Marks': {   'English': 53,\n",
      "                                              'Maths': 35,\n",
      "                                              'Physics': 55},\n",
      "                                 'Name': 'Viki Johnson',\n",
      "                                 'Roll Number': 2410008},\n",
      "                          9: {   'Marks': {   'English': 64,\n",
      "                                              'Maths': 68,\n",
      "                                              'Physics': 54},\n",
      "                                 'Name': 'Hanny Nguyen',\n",
      "                                 'Roll Number': 2410009},\n",
      "                          10: {   'Marks': {   'English': 83,\n",
      "                                               'Maths': 56,\n",
      "                                               'Physics': 62},\n",
      "                                  'Name': 'Debera Walker',\n",
      "                                  'Roll Number': 2410010}}},\n",
      "    2025: {   'Arts': {   1: {   'Marks': {   'History': 49,\n",
      "                                              'Literature': 71,\n",
      "                                              'Society': 52},\n",
      "                                 'Name': 'Ardith Green',\n",
      "                                 'Roll Number': 2520001},\n",
      "                          2: {   'Marks': {   'History': 63,\n",
      "                                              'Literature': 44,\n",
      "                                              'Society': 54},\n",
      "                                 'Name': 'Anne Taylor',\n",
      "                                 'Roll Number': 2520002},\n",
      "                          3: {   'Marks': {   'History': 83,\n",
      "                                              'Literature': 63,\n",
      "                                              'Society': 54},\n",
      "                                 'Name': 'Edita Wright',\n",
      "                                 'Roll Number': 2520003},\n",
      "                          4: {   'Marks': {   'History': 79,\n",
      "                                              'Literature': 67,\n",
      "                                              'Society': 72},\n",
      "                                 'Name': 'Leonora Campbell',\n",
      "                                 'Roll Number': 2520004},\n",
      "                          5: {   'Marks': {   'History': 78,\n",
      "                                              'Literature': 55,\n",
      "                                              'Society': 62},\n",
      "                                 'Name': 'Lelah Moore',\n",
      "                                 'Roll Number': 2520005},\n",
      "                          6: {   'Marks': {   'History': 39,\n",
      "                                              'Literature': 80,\n",
      "                                              'Society': 58},\n",
      "                                 'Name': 'Cordelia Garcia',\n",
      "                                 'Roll Number': 2520006},\n",
      "                          7: {   'Marks': {   'History': 55,\n",
      "                                              'Literature': 31,\n",
      "                                              'Society': 38},\n",
      "                                 'Name': 'Margery Walker',\n",
      "                                 'Roll Number': 2520007},\n",
      "                          8: {   'Marks': {   'History': 64,\n",
      "                                              'Literature': 65,\n",
      "                                              'Society': 49},\n",
      "                                 'Name': 'Almeria Miller',\n",
      "                                 'Roll Number': 2520008},\n",
      "                          9: {   'Marks': {   'History': 50,\n",
      "                                              'Literature': 56,\n",
      "                                              'Society': 55},\n",
      "                                 'Name': 'Alvina Carter',\n",
      "                                 'Roll Number': 2520009},\n",
      "                          10: {   'Marks': {   'History': 75,\n",
      "                                               'Literature': 28,\n",
      "                                               'Society': 50},\n",
      "                                  'Name': 'Idelle Nguyen',\n",
      "                                  'Roll Number': 2520010}},\n",
      "              'STEM': {   1: {   'Marks': {   'English': 56,\n",
      "                                              'Maths': 68,\n",
      "                                              'Physics': 67},\n",
      "                                 'Name': 'Lula Lopez',\n",
      "                                 'Roll Number': 2510001},\n",
      "                          2: {   'Marks': {   'English': 50,\n",
      "                                              'Maths': 54,\n",
      "                                              'Physics': 76},\n",
      "                                 'Name': 'Carley Nelson',\n",
      "                                 'Roll Number': 2510002},\n",
      "                          3: {   'Marks': {   'English': 58,\n",
      "                                              'Maths': 50,\n",
      "                                              'Physics': 67},\n",
      "                                 'Name': 'Jeniffer Scott',\n",
      "                                 'Roll Number': 2510003},\n",
      "                          4: {   'Marks': {   'English': 63,\n",
      "                                              'Maths': 65,\n",
      "                                              'Physics': 49},\n",
      "                                 'Name': 'Lindsey Flores',\n",
      "                                 'Roll Number': 2510004},\n",
      "                          5: {   'Marks': {   'English': 75,\n",
      "                                              'Maths': 88,\n",
      "                                              'Physics': 42},\n",
      "                                 'Name': 'Lynnett Mitchell',\n",
      "                                 'Roll Number': 2510005},\n",
      "                          6: {   'Marks': {   'English': 30,\n",
      "                                              'Maths': 57,\n",
      "                                              'Physics': 15},\n",
      "                                 'Name': 'Dyana Johnson',\n",
      "                                 'Roll Number': 2510006},\n",
      "                          7: {   'Marks': {   'English': 54,\n",
      "                                              'Maths': 42,\n",
      "                                              'Physics': 64},\n",
      "                                 'Name': 'Dorella Carter',\n",
      "                                 'Roll Number': 2510007},\n",
      "                          8: {   'Marks': {   'English': 67,\n",
      "                                              'Maths': 49,\n",
      "                                              'Physics': 58},\n",
      "                                 'Name': 'Minnaminnie Lewis',\n",
      "                                 'Roll Number': 2510008},\n",
      "                          9: {   'Marks': {   'English': 58,\n",
      "                                              'Maths': 56,\n",
      "                                              'Physics': 52},\n",
      "                                 'Name': 'Erin Walker',\n",
      "                                 'Roll Number': 2510009},\n",
      "                          10: {   'Marks': {   'English': 82,\n",
      "                                               'Maths': 74,\n",
      "                                               'Physics': 65},\n",
      "                                  'Name': 'Sigrid Sanchez',\n",
      "                                  'Roll Number': 2510010}}}}\n"
     ]
    }
   ],
   "source": [
    "import pprint\n",
    "pp = pprint.PrettyPrinter(indent=4)\n",
    "pp.pprint(D)"
   ]
  },
  {
   "cell_type": "markdown",
   "metadata": {
    "id": "2fKb0hnaaJi5"
   },
   "source": [
    "### Answer 8\n",
    "\n",
    "Using classes to store the same information. Year objects have an attribute `branches` that stores the list of branches. Branch objects have a `students` attribute that stores list of students. A Student object has various attributes as shown below."
   ]
  },
  {
   "cell_type": "code",
   "execution_count": 7,
   "metadata": {
    "id": "bJMpZBm1SJP6"
   },
   "outputs": [],
   "source": [
    "class Year:\n",
    "    def __init__(self, branches):\n",
    "        self.branches = branches\n",
    "\n",
    "class Branch:\n",
    "    def __init__(self, students, name):\n",
    "        self.students = students\n",
    "        self.name = name\n",
    "\n",
    "class Student:\n",
    "    def __init__(self, name, rollNo, marks, branch, year):\n",
    "        self.name = name\n",
    "        self.rollNo = rollNo\n",
    "        self.marks = marks\n",
    "        self.branch = branch\n",
    "        self.year = year"
   ]
  },
  {
   "cell_type": "markdown",
   "metadata": {
    "id": "sogwjYVb9FPm"
   },
   "source": [
    "Creating a database which is a list of year objects."
   ]
  },
  {
   "cell_type": "code",
   "execution_count": 8,
   "metadata": {
    "id": "ppvdmjBF1-X3"
   },
   "outputs": [],
   "source": [
    "database = []\n",
    "for key1, val1 in D.items():\n",
    "    # key1 is year\n",
    "    b_lst = []\n",
    "    for key2, val2 in val1.items():\n",
    "        # key2 is Branch name\n",
    "        s_lst = []\n",
    "        for key3, val3 in val2.items():\n",
    "            # key3 is sl_no\n",
    "            s_lst.append(Student(val3['Name'], val3['Roll Number'], val3['Marks'], key2, key1))\n",
    "        b_lst.append(Branch(s_lst, key2))\n",
    "    database.append(Year(b_lst))"
   ]
  },
  {
   "cell_type": "markdown",
   "metadata": {
    "id": "wZWK8JnB-k7g"
   },
   "source": [
    "Printing the data in the database."
   ]
  },
  {
   "cell_type": "code",
   "execution_count": 9,
   "metadata": {
    "colab": {
     "base_uri": "https://localhost:8080/"
    },
    "id": "zMzuegmu9iAG",
    "outputId": "2008e96f-0555-4b5c-97bd-62db32f35183"
   },
   "outputs": [
    {
     "name": "stdout",
     "output_type": "stream",
     "text": [
      "Name: \t Janie Thompson\n",
      "Roll No.:2210001\n",
      "Branch:  STEM\n",
      "Marks: \t {'Maths': 75, 'Physics': 62, 'English': 31}\n",
      "Year: \t 2022\n",
      "\n",
      "Name: \t Perry Harris\n",
      "Roll No.:2210002\n",
      "Branch:  STEM\n",
      "Marks: \t {'Maths': 30, 'Physics': 78, 'English': 48}\n",
      "Year: \t 2022\n",
      "\n",
      "Name: \t Melany Rivera\n",
      "Roll No.:2210003\n",
      "Branch:  STEM\n",
      "Marks: \t {'Maths': 66, 'Physics': 68, 'English': 47}\n",
      "Year: \t 2022\n",
      "\n",
      "Name: \t Theodosia Carter\n",
      "Roll No.:2210004\n",
      "Branch:  STEM\n",
      "Marks: \t {'Maths': 66, 'Physics': 42, 'English': 83}\n",
      "Year: \t 2022\n",
      "\n",
      "Name: \t Kania Garcia\n",
      "Roll No.:2210005\n",
      "Branch:  STEM\n",
      "Marks: \t {'Maths': 77, 'Physics': 64, 'English': 56}\n",
      "Year: \t 2022\n",
      "\n",
      "Name: \t Laurel Smith\n",
      "Roll No.:2210006\n",
      "Branch:  STEM\n",
      "Marks: \t {'Maths': 88, 'Physics': 62, 'English': 45}\n",
      "Year: \t 2022\n",
      "\n",
      "Name: \t Corey Harris\n",
      "Roll No.:2210007\n",
      "Branch:  STEM\n",
      "Marks: \t {'Maths': 67, 'Physics': 64, 'English': 53}\n",
      "Year: \t 2022\n",
      "\n",
      "Name: \t Rosa Smith\n",
      "Roll No.:2210008\n",
      "Branch:  STEM\n",
      "Marks: \t {'Maths': 75, 'Physics': 72, 'English': 76}\n",
      "Year: \t 2022\n",
      "\n",
      "Name: \t Chris Miller\n",
      "Roll No.:2210009\n",
      "Branch:  STEM\n",
      "Marks: \t {'Maths': 77, 'Physics': 45, 'English': 51}\n",
      "Year: \t 2022\n",
      "\n",
      "Name: \t Merline Rivera\n",
      "Roll No.:2210010\n",
      "Branch:  STEM\n",
      "Marks: \t {'Maths': 49, 'Physics': 74, 'English': 70}\n",
      "Year: \t 2022\n",
      "\n",
      "Name: \t Hyacinthe Allen\n",
      "Roll No.:2220001\n",
      "Branch:  Arts\n",
      "Marks: \t {'History': 68, 'Society': 54, 'Literature': 70}\n",
      "Year: \t 2022\n",
      "\n",
      "Name: \t Sula Anderson\n",
      "Roll No.:2220002\n",
      "Branch:  Arts\n",
      "Marks: \t {'History': 51, 'Society': 45, 'Literature': 31}\n",
      "Year: \t 2022\n",
      "\n",
      "Name: \t Ashly Martinez\n",
      "Roll No.:2220003\n",
      "Branch:  Arts\n",
      "Marks: \t {'History': 50, 'Society': 65, 'Literature': 82}\n",
      "Year: \t 2022\n",
      "\n",
      "Name: \t Dee Smith\n",
      "Roll No.:2220004\n",
      "Branch:  Arts\n",
      "Marks: \t {'History': 83, 'Society': 54, 'Literature': 84}\n",
      "Year: \t 2022\n",
      "\n",
      "Name: \t Anthiathia Flores\n",
      "Roll No.:2220005\n",
      "Branch:  Arts\n",
      "Marks: \t {'History': 63, 'Society': 55, 'Literature': 50}\n",
      "Year: \t 2022\n",
      "\n",
      "Name: \t Michel Scott\n",
      "Roll No.:2220006\n",
      "Branch:  Arts\n",
      "Marks: \t {'History': 52, 'Society': 43, 'Literature': 81}\n",
      "Year: \t 2022\n",
      "\n",
      "Name: \t Annecorinne Moore\n",
      "Roll No.:2220007\n",
      "Branch:  Arts\n",
      "Marks: \t {'History': 49, 'Society': 70, 'Literature': 82}\n",
      "Year: \t 2022\n",
      "\n",
      "Name: \t Marie-Jeanne Wilson\n",
      "Roll No.:2220008\n",
      "Branch:  Arts\n",
      "Marks: \t {'History': 70, 'Society': 61, 'Literature': 69}\n",
      "Year: \t 2022\n",
      "\n",
      "Name: \t Erica Hernandez\n",
      "Roll No.:2220009\n",
      "Branch:  Arts\n",
      "Marks: \t {'History': 57, 'Society': 48, 'Literature': 61}\n",
      "Year: \t 2022\n",
      "\n",
      "Name: \t Ekaterina Nguyen\n",
      "Roll No.:2220010\n",
      "Branch:  Arts\n",
      "Marks: \t {'History': 79, 'Society': 46, 'Literature': 84}\n",
      "Year: \t 2022\n",
      "\n",
      "Name: \t Olimpia Baker\n",
      "Roll No.:2310001\n",
      "Branch:  STEM\n",
      "Marks: \t {'Maths': 22, 'Physics': 47, 'English': 61}\n",
      "Year: \t 2023\n",
      "\n",
      "Name: \t Isabel Clark\n",
      "Roll No.:2310002\n",
      "Branch:  STEM\n",
      "Marks: \t {'Maths': 24, 'Physics': 48, 'English': 82}\n",
      "Year: \t 2023\n",
      "\n",
      "Name: \t Laverna White\n",
      "Roll No.:2310003\n",
      "Branch:  STEM\n",
      "Marks: \t {'Maths': 58, 'Physics': 67, 'English': 60}\n",
      "Year: \t 2023\n",
      "\n",
      "Name: \t Emelita Carter\n",
      "Roll No.:2310004\n",
      "Branch:  STEM\n",
      "Marks: \t {'Maths': 85, 'Physics': 88, 'English': 75}\n",
      "Year: \t 2023\n",
      "\n",
      "Name: \t Bobbette Martinez\n",
      "Roll No.:2310005\n",
      "Branch:  STEM\n",
      "Marks: \t {'Maths': 21, 'Physics': 85, 'English': 49}\n",
      "Year: \t 2023\n",
      "\n",
      "Name: \t Lauraine King\n",
      "Roll No.:2310006\n",
      "Branch:  STEM\n",
      "Marks: \t {'Maths': 59, 'Physics': 72, 'English': 27}\n",
      "Year: \t 2023\n",
      "\n",
      "Name: \t Emmalynne Nelson\n",
      "Roll No.:2310007\n",
      "Branch:  STEM\n",
      "Marks: \t {'Maths': 78, 'Physics': 37, 'English': 80}\n",
      "Year: \t 2023\n",
      "\n",
      "Name: \t Abbie Campbell\n",
      "Roll No.:2310008\n",
      "Branch:  STEM\n",
      "Marks: \t {'Maths': 88, 'Physics': 47, 'English': 57}\n",
      "Year: \t 2023\n",
      "\n",
      "Name: \t Mellie Smith\n",
      "Roll No.:2310009\n",
      "Branch:  STEM\n",
      "Marks: \t {'Maths': 26, 'Physics': 47, 'English': 36}\n",
      "Year: \t 2023\n",
      "\n",
      "Name: \t Deny Allen\n",
      "Roll No.:2310010\n",
      "Branch:  STEM\n",
      "Marks: \t {'Maths': 48, 'Physics': 61, 'English': 61}\n",
      "Year: \t 2023\n",
      "\n",
      "Name: \t Vita Sanchez\n",
      "Roll No.:2320001\n",
      "Branch:  Arts\n",
      "Marks: \t {'History': 54, 'Society': 57, 'Literature': 76}\n",
      "Year: \t 2023\n",
      "\n",
      "Name: \t Nettie Smith\n",
      "Roll No.:2320002\n",
      "Branch:  Arts\n",
      "Marks: \t {'History': 80, 'Society': 69, 'Literature': 66}\n",
      "Year: \t 2023\n",
      "\n",
      "Name: \t Gusta Rivera\n",
      "Roll No.:2320003\n",
      "Branch:  Arts\n",
      "Marks: \t {'History': 54, 'Society': 58, 'Literature': 41}\n",
      "Year: \t 2023\n",
      "\n",
      "Name: \t Lolly Nguyen\n",
      "Roll No.:2320004\n",
      "Branch:  Arts\n",
      "Marks: \t {'History': 49, 'Society': 63, 'Literature': 53}\n",
      "Year: \t 2023\n",
      "\n",
      "Name: \t Randy Garcia\n",
      "Roll No.:2320005\n",
      "Branch:  Arts\n",
      "Marks: \t {'History': 71, 'Society': 57, 'Literature': 43}\n",
      "Year: \t 2023\n",
      "\n",
      "Name: \t Zenia Ramirez\n",
      "Roll No.:2320006\n",
      "Branch:  Arts\n",
      "Marks: \t {'History': 63, 'Society': 91, 'Literature': 73}\n",
      "Year: \t 2023\n",
      "\n",
      "Name: \t Beckie Flores\n",
      "Roll No.:2320007\n",
      "Branch:  Arts\n",
      "Marks: \t {'History': 65, 'Society': 33, 'Literature': 44}\n",
      "Year: \t 2023\n",
      "\n",
      "Name: \t Chastity Lee\n",
      "Roll No.:2320008\n",
      "Branch:  Arts\n",
      "Marks: \t {'History': 78, 'Society': 66, 'Literature': 39}\n",
      "Year: \t 2023\n",
      "\n",
      "Name: \t Margaretha Brown\n",
      "Roll No.:2320009\n",
      "Branch:  Arts\n",
      "Marks: \t {'History': 51, 'Society': 38, 'Literature': 77}\n",
      "Year: \t 2023\n",
      "\n",
      "Name: \t Louella Johnson\n",
      "Roll No.:2320010\n",
      "Branch:  Arts\n",
      "Marks: \t {'History': 58, 'Society': 42, 'Literature': 62}\n",
      "Year: \t 2023\n",
      "\n",
      "Name: \t Billie Nelson\n",
      "Roll No.:2410001\n",
      "Branch:  STEM\n",
      "Marks: \t {'Maths': 58, 'Physics': 63, 'English': 57}\n",
      "Year: \t 2024\n",
      "\n",
      "Name: \t Kettie Torres\n",
      "Roll No.:2410002\n",
      "Branch:  STEM\n",
      "Marks: \t {'Maths': 68, 'Physics': 85, 'English': 88}\n",
      "Year: \t 2024\n",
      "\n",
      "Name: \t Felisha Carter\n",
      "Roll No.:2410003\n",
      "Branch:  STEM\n",
      "Marks: \t {'Maths': 58, 'Physics': 45, 'English': 45}\n",
      "Year: \t 2024\n",
      "\n",
      "Name: \t Gweneth Lewis\n",
      "Roll No.:2410004\n",
      "Branch:  STEM\n",
      "Marks: \t {'Maths': 50, 'Physics': 90, 'English': 45}\n",
      "Year: \t 2024\n",
      "\n",
      "Name: \t Krysta Gonzalez\n",
      "Roll No.:2410005\n",
      "Branch:  STEM\n",
      "Marks: \t {'Maths': 48, 'Physics': 54, 'English': 65}\n",
      "Year: \t 2024\n",
      "\n",
      "Name: \t Irina Harris\n",
      "Roll No.:2410006\n",
      "Branch:  STEM\n",
      "Marks: \t {'Maths': 57, 'Physics': 79, 'English': 52}\n",
      "Year: \t 2024\n",
      "\n",
      "Name: \t Josi King\n",
      "Roll No.:2410007\n",
      "Branch:  STEM\n",
      "Marks: \t {'Maths': 65, 'Physics': 75, 'English': 54}\n",
      "Year: \t 2024\n",
      "\n",
      "Name: \t Viki Johnson\n",
      "Roll No.:2410008\n",
      "Branch:  STEM\n",
      "Marks: \t {'Maths': 35, 'Physics': 55, 'English': 53}\n",
      "Year: \t 2024\n",
      "\n",
      "Name: \t Hanny Nguyen\n",
      "Roll No.:2410009\n",
      "Branch:  STEM\n",
      "Marks: \t {'Maths': 68, 'Physics': 54, 'English': 64}\n",
      "Year: \t 2024\n",
      "\n",
      "Name: \t Debera Walker\n",
      "Roll No.:2410010\n",
      "Branch:  STEM\n",
      "Marks: \t {'Maths': 56, 'Physics': 62, 'English': 83}\n",
      "Year: \t 2024\n",
      "\n",
      "Name: \t Minda Walker\n",
      "Roll No.:2420001\n",
      "Branch:  Arts\n",
      "Marks: \t {'History': 43, 'Society': 70, 'Literature': 85}\n",
      "Year: \t 2024\n",
      "\n",
      "Name: \t Kathye Harris\n",
      "Roll No.:2420002\n",
      "Branch:  Arts\n",
      "Marks: \t {'History': 94, 'Society': 67, 'Literature': 61}\n",
      "Year: \t 2024\n",
      "\n",
      "Name: \t Olly Nelson\n",
      "Roll No.:2420003\n",
      "Branch:  Arts\n",
      "Marks: \t {'History': 51, 'Society': 68, 'Literature': 63}\n",
      "Year: \t 2024\n",
      "\n",
      "Name: \t Dorri Rivera\n",
      "Roll No.:2420004\n",
      "Branch:  Arts\n",
      "Marks: \t {'History': 67, 'Society': 42, 'Literature': 76}\n",
      "Year: \t 2024\n",
      "\n",
      "Name: \t Haleigh Wilson\n",
      "Roll No.:2420005\n",
      "Branch:  Arts\n",
      "Marks: \t {'History': 65, 'Society': 64, 'Literature': 51}\n",
      "Year: \t 2024\n",
      "\n",
      "Name: \t Gerta Green\n",
      "Roll No.:2420006\n",
      "Branch:  Arts\n",
      "Marks: \t {'History': 48, 'Society': 42, 'Literature': 76}\n",
      "Year: \t 2024\n",
      "\n",
      "Name: \t Jacquie Martin\n",
      "Roll No.:2420007\n",
      "Branch:  Arts\n",
      "Marks: \t {'History': 47, 'Society': 51, 'Literature': 39}\n",
      "Year: \t 2024\n",
      "\n",
      "Name: \t Fleur Hernandez\n",
      "Roll No.:2420008\n",
      "Branch:  Arts\n",
      "Marks: \t {'History': 52, 'Society': 56, 'Literature': 62}\n",
      "Year: \t 2024\n",
      "\n",
      "Name: \t Jany Jones\n",
      "Roll No.:2420009\n",
      "Branch:  Arts\n",
      "Marks: \t {'History': 70, 'Society': 23, 'Literature': 54}\n",
      "Year: \t 2024\n",
      "\n",
      "Name: \t Basia Sanchez\n",
      "Roll No.:2420010\n",
      "Branch:  Arts\n",
      "Marks: \t {'History': 70, 'Society': 67, 'Literature': 83}\n",
      "Year: \t 2024\n",
      "\n",
      "Name: \t Lula Lopez\n",
      "Roll No.:2510001\n",
      "Branch:  STEM\n",
      "Marks: \t {'Maths': 68, 'Physics': 67, 'English': 56}\n",
      "Year: \t 2025\n",
      "\n",
      "Name: \t Carley Nelson\n",
      "Roll No.:2510002\n",
      "Branch:  STEM\n",
      "Marks: \t {'Maths': 54, 'Physics': 76, 'English': 50}\n",
      "Year: \t 2025\n",
      "\n",
      "Name: \t Jeniffer Scott\n",
      "Roll No.:2510003\n",
      "Branch:  STEM\n",
      "Marks: \t {'Maths': 50, 'Physics': 67, 'English': 58}\n",
      "Year: \t 2025\n",
      "\n",
      "Name: \t Lindsey Flores\n",
      "Roll No.:2510004\n",
      "Branch:  STEM\n",
      "Marks: \t {'Maths': 65, 'Physics': 49, 'English': 63}\n",
      "Year: \t 2025\n",
      "\n",
      "Name: \t Lynnett Mitchell\n",
      "Roll No.:2510005\n",
      "Branch:  STEM\n",
      "Marks: \t {'Maths': 88, 'Physics': 42, 'English': 75}\n",
      "Year: \t 2025\n",
      "\n",
      "Name: \t Dyana Johnson\n",
      "Roll No.:2510006\n",
      "Branch:  STEM\n",
      "Marks: \t {'Maths': 57, 'Physics': 15, 'English': 30}\n",
      "Year: \t 2025\n",
      "\n",
      "Name: \t Dorella Carter\n",
      "Roll No.:2510007\n",
      "Branch:  STEM\n",
      "Marks: \t {'Maths': 42, 'Physics': 64, 'English': 54}\n",
      "Year: \t 2025\n",
      "\n",
      "Name: \t Minnaminnie Lewis\n",
      "Roll No.:2510008\n",
      "Branch:  STEM\n",
      "Marks: \t {'Maths': 49, 'Physics': 58, 'English': 67}\n",
      "Year: \t 2025\n",
      "\n",
      "Name: \t Erin Walker\n",
      "Roll No.:2510009\n",
      "Branch:  STEM\n",
      "Marks: \t {'Maths': 56, 'Physics': 52, 'English': 58}\n",
      "Year: \t 2025\n",
      "\n",
      "Name: \t Sigrid Sanchez\n",
      "Roll No.:2510010\n",
      "Branch:  STEM\n",
      "Marks: \t {'Maths': 74, 'Physics': 65, 'English': 82}\n",
      "Year: \t 2025\n",
      "\n",
      "Name: \t Ardith Green\n",
      "Roll No.:2520001\n",
      "Branch:  Arts\n",
      "Marks: \t {'History': 49, 'Society': 52, 'Literature': 71}\n",
      "Year: \t 2025\n",
      "\n",
      "Name: \t Anne Taylor\n",
      "Roll No.:2520002\n",
      "Branch:  Arts\n",
      "Marks: \t {'History': 63, 'Society': 54, 'Literature': 44}\n",
      "Year: \t 2025\n",
      "\n",
      "Name: \t Edita Wright\n",
      "Roll No.:2520003\n",
      "Branch:  Arts\n",
      "Marks: \t {'History': 83, 'Society': 54, 'Literature': 63}\n",
      "Year: \t 2025\n",
      "\n",
      "Name: \t Leonora Campbell\n",
      "Roll No.:2520004\n",
      "Branch:  Arts\n",
      "Marks: \t {'History': 79, 'Society': 72, 'Literature': 67}\n",
      "Year: \t 2025\n",
      "\n",
      "Name: \t Lelah Moore\n",
      "Roll No.:2520005\n",
      "Branch:  Arts\n",
      "Marks: \t {'History': 78, 'Society': 62, 'Literature': 55}\n",
      "Year: \t 2025\n",
      "\n",
      "Name: \t Cordelia Garcia\n",
      "Roll No.:2520006\n",
      "Branch:  Arts\n",
      "Marks: \t {'History': 39, 'Society': 58, 'Literature': 80}\n",
      "Year: \t 2025\n",
      "\n",
      "Name: \t Margery Walker\n",
      "Roll No.:2520007\n",
      "Branch:  Arts\n",
      "Marks: \t {'History': 55, 'Society': 38, 'Literature': 31}\n",
      "Year: \t 2025\n",
      "\n",
      "Name: \t Almeria Miller\n",
      "Roll No.:2520008\n",
      "Branch:  Arts\n",
      "Marks: \t {'History': 64, 'Society': 49, 'Literature': 65}\n",
      "Year: \t 2025\n",
      "\n",
      "Name: \t Alvina Carter\n",
      "Roll No.:2520009\n",
      "Branch:  Arts\n",
      "Marks: \t {'History': 50, 'Society': 55, 'Literature': 56}\n",
      "Year: \t 2025\n",
      "\n",
      "Name: \t Idelle Nguyen\n",
      "Roll No.:2520010\n",
      "Branch:  Arts\n",
      "Marks: \t {'History': 75, 'Society': 50, 'Literature': 28}\n",
      "Year: \t 2025\n",
      "\n"
     ]
    }
   ],
   "source": [
    "for year in database:\n",
    "    for branch in year.branches:\n",
    "        for student in branch.students:\n",
    "            print('Name: \\t', student.name)\n",
    "            print(f'Roll No.:{student.rollNo}')\n",
    "            print('Branch: ', student.branch)\n",
    "            print('Marks: \\t', student.marks)\n",
    "            print('Year: \\t', student.year, end='\\n\\n')"
   ]
  },
  {
   "cell_type": "markdown",
   "metadata": {
    "id": "3PFsqZ98HHkF"
   },
   "source": [
    "### Answer 9\n",
    "\n",
    "The plots are shown below."
   ]
  },
  {
   "cell_type": "code",
   "execution_count": 15,
   "metadata": {
    "colab": {
     "base_uri": "https://localhost:8080/",
     "height": 1000
    },
    "id": "mRz9ub1FHP6C",
    "outputId": "0c24aad9-2da5-4f42-b141-a302ff07bd52"
   },
   "outputs": [
    {
     "data": {
      "image/png": "[encoded data removed]",
      "text/plain": [
       "<Figure size 3000x3000 with 7 Axes>"
      ]
     },
     "metadata": {},
     "output_type": "display_data"
    }
   ],
   "source": [
    "import matplotlib.pyplot as plt\n",
    "%matplotlib inline\n",
    "\n",
    "plt.rcParams['figure.figsize'] = [30, 30]\n",
    "plt.rcParams.update({'font.size': 18})\n",
    "\n",
    "x = np.arange(0.5, 100, 0.5)\n",
    "\n",
    "ylabels = [r'$y = x$', r'$y = x^2$', r'$y = \\dfrac{x^3}{100}$', r'$y = \\sin(x)$', r'$y = \\dfrac{\\sin(x)}{x}$', r'$y = \\log(x)$', r'$y = e^x$']\n",
    "ys = [x, x**2, x**3/100, np.sin(x), np.sin(x)/x, np.log(x), np.exp(x)]\n",
    "\n",
    "for i in range(7):\n",
    "    plt.subplot(4, 2, i+1)\n",
    "    plt.xlabel(r'$x$', fontsize=24)\n",
    "    plt.ylabel(ylabels[i], fontsize=24)\n",
    "    y = ys[i]\n",
    "    plt.plot(x, y)\n",
    "\n",
    "plt.tight_layout()\n",
    "plt.show()"
   ]
  },
  {
   "cell_type": "markdown",
   "metadata": {
    "id": "wSNFh3DqMzwY"
   },
   "source": [
    "### Answer 10\n",
    "\n",
    "Using `numpy` and `pandas` as instructed to create the dataframe."
   ]
  },
  {
   "cell_type": "code",
   "execution_count": 16,
   "metadata": {
    "colab": {
     "base_uri": "https://localhost:8080/",
     "height": 238
    },
    "id": "LuLD7TL9M5HY",
    "outputId": "3b280b18-d3b4-4b9d-caad-b7877ab0bf4e"
   },
   "outputs": [
    {
     "data": {
      "text/html": [
       "<div>\n",
       "<style scoped>\n",
       "    .dataframe tbody tr th:only-of-type {\n",
       "        vertical-align: middle;\n",
       "    }\n",
       "\n",
       "    .dataframe tbody tr th {\n",
       "        vertical-align: top;\n",
       "    }\n",
       "\n",
       "    .dataframe thead th {\n",
       "        text-align: right;\n",
       "    }\n",
       "</style>\n",
       "<table border=\"1\" class=\"dataframe\">\n",
       "  <thead>\n",
       "    <tr style=\"text-align: right;\">\n",
       "      <th></th>\n",
       "      <th>a</th>\n",
       "      <th>b</th>\n",
       "      <th>c</th>\n",
       "      <th>d</th>\n",
       "      <th>e</th>\n",
       "    </tr>\n",
       "  </thead>\n",
       "  <tbody>\n",
       "    <tr>\n",
       "      <th>0</th>\n",
       "      <td>1.767348</td>\n",
       "      <td>1.277147</td>\n",
       "      <td>1.542009</td>\n",
       "      <td>1.627667</td>\n",
       "      <td>1.199746</td>\n",
       "    </tr>\n",
       "    <tr>\n",
       "      <th>1</th>\n",
       "      <td>1.760754</td>\n",
       "      <td>1.836151</td>\n",
       "      <td>1.112620</td>\n",
       "      <td>1.825114</td>\n",
       "      <td>1.692182</td>\n",
       "    </tr>\n",
       "    <tr>\n",
       "      <th>2</th>\n",
       "      <td>1.876210</td>\n",
       "      <td>1.437970</td>\n",
       "      <td>1.673533</td>\n",
       "      <td>1.556260</td>\n",
       "      <td>1.239259</td>\n",
       "    </tr>\n",
       "    <tr>\n",
       "      <th>3</th>\n",
       "      <td>1.021911</td>\n",
       "      <td>1.131281</td>\n",
       "      <td>1.637174</td>\n",
       "      <td>1.329583</td>\n",
       "      <td>1.980253</td>\n",
       "    </tr>\n",
       "    <tr>\n",
       "      <th>4</th>\n",
       "      <td>1.190821</td>\n",
       "      <td>1.095515</td>\n",
       "      <td>1.045632</td>\n",
       "      <td>1.188657</td>\n",
       "      <td>1.094742</td>\n",
       "    </tr>\n",
       "    <tr>\n",
       "      <th>5</th>\n",
       "      <td>1.043304</td>\n",
       "      <td>1.095803</td>\n",
       "      <td>1.794303</td>\n",
       "      <td>1.881403</td>\n",
       "      <td>1.116793</td>\n",
       "    </tr>\n",
       "    <tr>\n",
       "      <th>6</th>\n",
       "      <td>1.301217</td>\n",
       "      <td>1.787088</td>\n",
       "      <td>1.595969</td>\n",
       "      <td>1.617029</td>\n",
       "      <td>1.715832</td>\n",
       "    </tr>\n",
       "    <tr>\n",
       "      <th>7</th>\n",
       "      <td>1.593462</td>\n",
       "      <td>1.742972</td>\n",
       "      <td>1.939717</td>\n",
       "      <td>1.523229</td>\n",
       "      <td>1.170011</td>\n",
       "    </tr>\n",
       "    <tr>\n",
       "      <th>8</th>\n",
       "      <td>1.848309</td>\n",
       "      <td>1.207522</td>\n",
       "      <td>1.318056</td>\n",
       "      <td>1.680624</td>\n",
       "      <td>1.524873</td>\n",
       "    </tr>\n",
       "    <tr>\n",
       "      <th>9</th>\n",
       "      <td>1.894168</td>\n",
       "      <td>1.892013</td>\n",
       "      <td>1.049655</td>\n",
       "      <td>1.128560</td>\n",
       "      <td>1.062107</td>\n",
       "    </tr>\n",
       "    <tr>\n",
       "      <th>10</th>\n",
       "      <td>1.752922</td>\n",
       "      <td>1.235037</td>\n",
       "      <td>1.427089</td>\n",
       "      <td>1.591574</td>\n",
       "      <td>1.653882</td>\n",
       "    </tr>\n",
       "    <tr>\n",
       "      <th>11</th>\n",
       "      <td>1.346373</td>\n",
       "      <td>1.495712</td>\n",
       "      <td>1.514877</td>\n",
       "      <td>1.453193</td>\n",
       "      <td>1.438491</td>\n",
       "    </tr>\n",
       "    <tr>\n",
       "      <th>12</th>\n",
       "      <td>1.811232</td>\n",
       "      <td>1.202776</td>\n",
       "      <td>1.788586</td>\n",
       "      <td>1.663087</td>\n",
       "      <td>1.997795</td>\n",
       "    </tr>\n",
       "    <tr>\n",
       "      <th>13</th>\n",
       "      <td>1.741630</td>\n",
       "      <td>1.522379</td>\n",
       "      <td>1.748871</td>\n",
       "      <td>1.844678</td>\n",
       "      <td>1.038130</td>\n",
       "    </tr>\n",
       "    <tr>\n",
       "      <th>14</th>\n",
       "      <td>1.965361</td>\n",
       "      <td>1.533340</td>\n",
       "      <td>1.982800</td>\n",
       "      <td>1.169846</td>\n",
       "      <td>1.339821</td>\n",
       "    </tr>\n",
       "    <tr>\n",
       "      <th>15</th>\n",
       "      <td>1.527758</td>\n",
       "      <td>1.247437</td>\n",
       "      <td>1.752009</td>\n",
       "      <td>1.918688</td>\n",
       "      <td>1.051883</td>\n",
       "    </tr>\n",
       "    <tr>\n",
       "      <th>16</th>\n",
       "      <td>1.775146</td>\n",
       "      <td>1.068369</td>\n",
       "      <td>1.382196</td>\n",
       "      <td>1.872776</td>\n",
       "      <td>1.532984</td>\n",
       "    </tr>\n",
       "    <tr>\n",
       "      <th>17</th>\n",
       "      <td>1.001720</td>\n",
       "      <td>1.405973</td>\n",
       "      <td>1.136264</td>\n",
       "      <td>1.699858</td>\n",
       "      <td>1.320699</td>\n",
       "    </tr>\n",
       "    <tr>\n",
       "      <th>18</th>\n",
       "      <td>1.082874</td>\n",
       "      <td>1.423058</td>\n",
       "      <td>1.737807</td>\n",
       "      <td>1.186124</td>\n",
       "      <td>1.744869</td>\n",
       "    </tr>\n",
       "    <tr>\n",
       "      <th>19</th>\n",
       "      <td>1.661104</td>\n",
       "      <td>1.263369</td>\n",
       "      <td>1.257598</td>\n",
       "      <td>1.861485</td>\n",
       "      <td>1.521210</td>\n",
       "    </tr>\n",
       "  </tbody>\n",
       "</table>\n",
       "</div>"
      ],
      "text/plain": [
       "           a         b         c         d         e\n",
       "0   1.767348  1.277147  1.542009  1.627667  1.199746\n",
       "1   1.760754  1.836151  1.112620  1.825114  1.692182\n",
       "2   1.876210  1.437970  1.673533  1.556260  1.239259\n",
       "3   1.021911  1.131281  1.637174  1.329583  1.980253\n",
       "4   1.190821  1.095515  1.045632  1.188657  1.094742\n",
       "5   1.043304  1.095803  1.794303  1.881403  1.116793\n",
       "6   1.301217  1.787088  1.595969  1.617029  1.715832\n",
       "7   1.593462  1.742972  1.939717  1.523229  1.170011\n",
       "8   1.848309  1.207522  1.318056  1.680624  1.524873\n",
       "9   1.894168  1.892013  1.049655  1.128560  1.062107\n",
       "10  1.752922  1.235037  1.427089  1.591574  1.653882\n",
       "11  1.346373  1.495712  1.514877  1.453193  1.438491\n",
       "12  1.811232  1.202776  1.788586  1.663087  1.997795\n",
       "13  1.741630  1.522379  1.748871  1.844678  1.038130\n",
       "14  1.965361  1.533340  1.982800  1.169846  1.339821\n",
       "15  1.527758  1.247437  1.752009  1.918688  1.051883\n",
       "16  1.775146  1.068369  1.382196  1.872776  1.532984\n",
       "17  1.001720  1.405973  1.136264  1.699858  1.320699\n",
       "18  1.082874  1.423058  1.737807  1.186124  1.744869\n",
       "19  1.661104  1.263369  1.257598  1.861485  1.521210"
      ]
     },
     "execution_count": 16,
     "metadata": {},
     "output_type": "execute_result"
    }
   ],
   "source": [
    "import pandas as pd\n",
    "\n",
    "X = np.random.uniform(1, 2, (20, 5))\n",
    "\n",
    "df = pd.DataFrame(X, columns=['a', 'b', 'c', 'd', 'e'])\n",
    "df"
   ]
  },
  {
   "cell_type": "markdown",
   "metadata": {
    "id": "7hhgHQAXzdWD"
   },
   "source": [
    "Finding the column with max standard deviation is done using the method `var` which produces a `pandas.core.series.Series` object containing the variance of all the columns. Then, we use `np.argmax` to find which column has the maximum standard deviation. Similarly, the row with the lowest mean can be found by first taking the transpose of the dataframe and then using the method `mean` which gives the mean of all the rows of the original dataframe. Then, we use `np.argmin`."
   ]
  },
  {
   "cell_type": "code",
   "execution_count": 18,
   "metadata": {
    "colab": {
     "base_uri": "https://localhost:8080/"
    },
    "id": "11YvqYV-PETU",
    "outputId": "73888187-2d97-4945-b924-afc108b4b5ef"
   },
   "outputs": [
    {
     "name": "stdout",
     "output_type": "stream",
     "text": [
      "<class 'pandas.core.series.Series'>\n",
      "\n",
      "Standard Deviation of columns\n",
      "a    0.330576\n",
      "b    0.258624\n",
      "c    0.293043\n",
      "d    0.261441\n",
      "e    0.305301\n",
      "dtype: float64\n",
      "\n",
      "Column with max standard deviation is a\n"
     ]
    }
   ],
   "source": [
    "stdev_of_cols = np.sqrt(df.var()) # pandas series\n",
    "print(stdev_of_cols.__class__, end='\\n\\n')\n",
    "\n",
    "print(\"Standard Deviation of columns\")\n",
    "print(stdev_of_cols, end='\\n\\n')\n",
    "\n",
    "print(\"Column with max standard deviation is\", df.columns[np.argmax(stdev_of_cols)])"
   ]
  },
  {
   "cell_type": "markdown",
   "metadata": {
    "id": "rrdeXvd_zQpf"
   },
   "source": [
    "Accessing rows by taking transpose, then accessing columns."
   ]
  },
  {
   "cell_type": "code",
   "execution_count": 19,
   "metadata": {
    "colab": {
     "base_uri": "https://localhost:8080/",
     "height": 250
    },
    "id": "lIJe7rMAa6gj",
    "outputId": "ee9ec21a-8838-44a8-d9fe-5fb12f8a3dc5"
   },
   "outputs": [
    {
     "data": {
      "text/html": [
       "<div>\n",
       "<style scoped>\n",
       "    .dataframe tbody tr th:only-of-type {\n",
       "        vertical-align: middle;\n",
       "    }\n",
       "\n",
       "    .dataframe tbody tr th {\n",
       "        vertical-align: top;\n",
       "    }\n",
       "\n",
       "    .dataframe thead th {\n",
       "        text-align: right;\n",
       "    }\n",
       "</style>\n",
       "<table border=\"1\" class=\"dataframe\">\n",
       "  <thead>\n",
       "    <tr style=\"text-align: right;\">\n",
       "      <th></th>\n",
       "      <th>0</th>\n",
       "      <th>1</th>\n",
       "      <th>2</th>\n",
       "      <th>3</th>\n",
       "      <th>4</th>\n",
       "      <th>5</th>\n",
       "      <th>6</th>\n",
       "      <th>7</th>\n",
       "      <th>8</th>\n",
       "      <th>9</th>\n",
       "      <th>10</th>\n",
       "      <th>11</th>\n",
       "      <th>12</th>\n",
       "      <th>13</th>\n",
       "      <th>14</th>\n",
       "      <th>15</th>\n",
       "      <th>16</th>\n",
       "      <th>17</th>\n",
       "      <th>18</th>\n",
       "      <th>19</th>\n",
       "    </tr>\n",
       "  </thead>\n",
       "  <tbody>\n",
       "    <tr>\n",
       "      <th>a</th>\n",
       "      <td>1.767348</td>\n",
       "      <td>1.760754</td>\n",
       "      <td>1.876210</td>\n",
       "      <td>1.021911</td>\n",
       "      <td>1.190821</td>\n",
       "      <td>1.043304</td>\n",
       "      <td>1.301217</td>\n",
       "      <td>1.593462</td>\n",
       "      <td>1.848309</td>\n",
       "      <td>1.894168</td>\n",
       "      <td>1.752922</td>\n",
       "      <td>1.346373</td>\n",
       "      <td>1.811232</td>\n",
       "      <td>1.741630</td>\n",
       "      <td>1.965361</td>\n",
       "      <td>1.527758</td>\n",
       "      <td>1.775146</td>\n",
       "      <td>1.001720</td>\n",
       "      <td>1.082874</td>\n",
       "      <td>1.661104</td>\n",
       "    </tr>\n",
       "    <tr>\n",
       "      <th>b</th>\n",
       "      <td>1.277147</td>\n",
       "      <td>1.836151</td>\n",
       "      <td>1.437970</td>\n",
       "      <td>1.131281</td>\n",
       "      <td>1.095515</td>\n",
       "      <td>1.095803</td>\n",
       "      <td>1.787088</td>\n",
       "      <td>1.742972</td>\n",
       "      <td>1.207522</td>\n",
       "      <td>1.892013</td>\n",
       "      <td>1.235037</td>\n",
       "      <td>1.495712</td>\n",
       "      <td>1.202776</td>\n",
       "      <td>1.522379</td>\n",
       "      <td>1.533340</td>\n",
       "      <td>1.247437</td>\n",
       "      <td>1.068369</td>\n",
       "      <td>1.405973</td>\n",
       "      <td>1.423058</td>\n",
       "      <td>1.263369</td>\n",
       "    </tr>\n",
       "    <tr>\n",
       "      <th>c</th>\n",
       "      <td>1.542009</td>\n",
       "      <td>1.112620</td>\n",
       "      <td>1.673533</td>\n",
       "      <td>1.637174</td>\n",
       "      <td>1.045632</td>\n",
       "      <td>1.794303</td>\n",
       "      <td>1.595969</td>\n",
       "      <td>1.939717</td>\n",
       "      <td>1.318056</td>\n",
       "      <td>1.049655</td>\n",
       "      <td>1.427089</td>\n",
       "      <td>1.514877</td>\n",
       "      <td>1.788586</td>\n",
       "      <td>1.748871</td>\n",
       "      <td>1.982800</td>\n",
       "      <td>1.752009</td>\n",
       "      <td>1.382196</td>\n",
       "      <td>1.136264</td>\n",
       "      <td>1.737807</td>\n",
       "      <td>1.257598</td>\n",
       "    </tr>\n",
       "    <tr>\n",
       "      <th>d</th>\n",
       "      <td>1.627667</td>\n",
       "      <td>1.825114</td>\n",
       "      <td>1.556260</td>\n",
       "      <td>1.329583</td>\n",
       "      <td>1.188657</td>\n",
       "      <td>1.881403</td>\n",
       "      <td>1.617029</td>\n",
       "      <td>1.523229</td>\n",
       "      <td>1.680624</td>\n",
       "      <td>1.128560</td>\n",
       "      <td>1.591574</td>\n",
       "      <td>1.453193</td>\n",
       "      <td>1.663087</td>\n",
       "      <td>1.844678</td>\n",
       "      <td>1.169846</td>\n",
       "      <td>1.918688</td>\n",
       "      <td>1.872776</td>\n",
       "      <td>1.699858</td>\n",
       "      <td>1.186124</td>\n",
       "      <td>1.861485</td>\n",
       "    </tr>\n",
       "    <tr>\n",
       "      <th>e</th>\n",
       "      <td>1.199746</td>\n",
       "      <td>1.692182</td>\n",
       "      <td>1.239259</td>\n",
       "      <td>1.980253</td>\n",
       "      <td>1.094742</td>\n",
       "      <td>1.116793</td>\n",
       "      <td>1.715832</td>\n",
       "      <td>1.170011</td>\n",
       "      <td>1.524873</td>\n",
       "      <td>1.062107</td>\n",
       "      <td>1.653882</td>\n",
       "      <td>1.438491</td>\n",
       "      <td>1.997795</td>\n",
       "      <td>1.038130</td>\n",
       "      <td>1.339821</td>\n",
       "      <td>1.051883</td>\n",
       "      <td>1.532984</td>\n",
       "      <td>1.320699</td>\n",
       "      <td>1.744869</td>\n",
       "      <td>1.521210</td>\n",
       "    </tr>\n",
       "  </tbody>\n",
       "</table>\n",
       "</div>"
      ],
      "text/plain": [
       "         0         1         2         3         4         5         6   \\\n",
       "a  1.767348  1.760754  1.876210  1.021911  1.190821  1.043304  1.301217   \n",
       "b  1.277147  1.836151  1.437970  1.131281  1.095515  1.095803  1.787088   \n",
       "c  1.542009  1.112620  1.673533  1.637174  1.045632  1.794303  1.595969   \n",
       "d  1.627667  1.825114  1.556260  1.329583  1.188657  1.881403  1.617029   \n",
       "e  1.199746  1.692182  1.239259  1.980253  1.094742  1.116793  1.715832   \n",
       "\n",
       "         7         8         9         10        11        12        13  \\\n",
       "a  1.593462  1.848309  1.894168  1.752922  1.346373  1.811232  1.741630   \n",
       "b  1.742972  1.207522  1.892013  1.235037  1.495712  1.202776  1.522379   \n",
       "c  1.939717  1.318056  1.049655  1.427089  1.514877  1.788586  1.748871   \n",
       "d  1.523229  1.680624  1.128560  1.591574  1.453193  1.663087  1.844678   \n",
       "e  1.170011  1.524873  1.062107  1.653882  1.438491  1.997795  1.038130   \n",
       "\n",
       "         14        15        16        17        18        19  \n",
       "a  1.965361  1.527758  1.775146  1.001720  1.082874  1.661104  \n",
       "b  1.533340  1.247437  1.068369  1.405973  1.423058  1.263369  \n",
       "c  1.982800  1.752009  1.382196  1.136264  1.737807  1.257598  \n",
       "d  1.169846  1.918688  1.872776  1.699858  1.186124  1.861485  \n",
       "e  1.339821  1.051883  1.532984  1.320699  1.744869  1.521210  "
      ]
     },
     "execution_count": 19,
     "metadata": {},
     "output_type": "execute_result"
    }
   ],
   "source": [
    "df_T = df.T\n",
    "df_T"
   ]
  },
  {
   "cell_type": "code",
   "execution_count": 20,
   "metadata": {
    "colab": {
     "base_uri": "https://localhost:8080/"
    },
    "id": "925XsRiqTHdb",
    "outputId": "2a9dfa81-c188-45b3-b2f8-76d9585fd1b6"
   },
   "outputs": [
    {
     "name": "stdout",
     "output_type": "stream",
     "text": [
      "Mean of rows of df (columns of df_T)\n",
      "0     1.482783\n",
      "1     1.645364\n",
      "2     1.556646\n",
      "3     1.420040\n",
      "4     1.123074\n",
      "5     1.386321\n",
      "6     1.603427\n",
      "7     1.593878\n",
      "8     1.515877\n",
      "9     1.405300\n",
      "10    1.532101\n",
      "11    1.449729\n",
      "12    1.692695\n",
      "13    1.579137\n",
      "14    1.598234\n",
      "15    1.499555\n",
      "16    1.526294\n",
      "17    1.312903\n",
      "18    1.434946\n",
      "19    1.512953\n",
      "dtype: float64\n",
      "\n",
      "Row with lowest mean is  4\n"
     ]
    }
   ],
   "source": [
    "mean_of_rows = df_T.mean()\n",
    "print(\"Mean of rows of df (columns of df_T)\")\n",
    "print(mean_of_rows, end='\\n\\n')\n",
    "\n",
    "print(\"Row with lowest mean is \", np.argmin(mean_of_rows))"
   ]
  },
  {
   "cell_type": "markdown",
   "metadata": {
    "id": "lBBS5A9PvvWP"
   },
   "source": [
    "### Answer 11\n",
    "\n",
    "Adding new column `f` which is the sum of all the column values for that row, and empty column `g`."
   ]
  },
  {
   "cell_type": "code",
   "execution_count": 21,
   "metadata": {
    "colab": {
     "base_uri": "https://localhost:8080/",
     "height": 677
    },
    "id": "z1xkA4bIYy8M",
    "outputId": "508f7ccf-81bd-4045-bfa9-8db861ac34a3"
   },
   "outputs": [
    {
     "data": {
      "text/html": [
       "<div>\n",
       "<style scoped>\n",
       "    .dataframe tbody tr th:only-of-type {\n",
       "        vertical-align: middle;\n",
       "    }\n",
       "\n",
       "    .dataframe tbody tr th {\n",
       "        vertical-align: top;\n",
       "    }\n",
       "\n",
       "    .dataframe thead th {\n",
       "        text-align: right;\n",
       "    }\n",
       "</style>\n",
       "<table border=\"1\" class=\"dataframe\">\n",
       "  <thead>\n",
       "    <tr style=\"text-align: right;\">\n",
       "      <th></th>\n",
       "      <th>a</th>\n",
       "      <th>b</th>\n",
       "      <th>c</th>\n",
       "      <th>d</th>\n",
       "      <th>e</th>\n",
       "      <th>f</th>\n",
       "      <th>g</th>\n",
       "    </tr>\n",
       "  </thead>\n",
       "  <tbody>\n",
       "    <tr>\n",
       "      <th>0</th>\n",
       "      <td>1.767348</td>\n",
       "      <td>1.277147</td>\n",
       "      <td>1.542009</td>\n",
       "      <td>1.627667</td>\n",
       "      <td>1.199746</td>\n",
       "      <td>7.413917</td>\n",
       "      <td></td>\n",
       "    </tr>\n",
       "    <tr>\n",
       "      <th>1</th>\n",
       "      <td>1.760754</td>\n",
       "      <td>1.836151</td>\n",
       "      <td>1.112620</td>\n",
       "      <td>1.825114</td>\n",
       "      <td>1.692182</td>\n",
       "      <td>8.226822</td>\n",
       "      <td></td>\n",
       "    </tr>\n",
       "    <tr>\n",
       "      <th>2</th>\n",
       "      <td>1.876210</td>\n",
       "      <td>1.437970</td>\n",
       "      <td>1.673533</td>\n",
       "      <td>1.556260</td>\n",
       "      <td>1.239259</td>\n",
       "      <td>7.783231</td>\n",
       "      <td></td>\n",
       "    </tr>\n",
       "    <tr>\n",
       "      <th>3</th>\n",
       "      <td>1.021911</td>\n",
       "      <td>1.131281</td>\n",
       "      <td>1.637174</td>\n",
       "      <td>1.329583</td>\n",
       "      <td>1.980253</td>\n",
       "      <td>7.100202</td>\n",
       "      <td></td>\n",
       "    </tr>\n",
       "    <tr>\n",
       "      <th>4</th>\n",
       "      <td>1.190821</td>\n",
       "      <td>1.095515</td>\n",
       "      <td>1.045632</td>\n",
       "      <td>1.188657</td>\n",
       "      <td>1.094742</td>\n",
       "      <td>5.615368</td>\n",
       "      <td></td>\n",
       "    </tr>\n",
       "    <tr>\n",
       "      <th>5</th>\n",
       "      <td>1.043304</td>\n",
       "      <td>1.095803</td>\n",
       "      <td>1.794303</td>\n",
       "      <td>1.881403</td>\n",
       "      <td>1.116793</td>\n",
       "      <td>6.931606</td>\n",
       "      <td></td>\n",
       "    </tr>\n",
       "    <tr>\n",
       "      <th>6</th>\n",
       "      <td>1.301217</td>\n",
       "      <td>1.787088</td>\n",
       "      <td>1.595969</td>\n",
       "      <td>1.617029</td>\n",
       "      <td>1.715832</td>\n",
       "      <td>8.017135</td>\n",
       "      <td></td>\n",
       "    </tr>\n",
       "    <tr>\n",
       "      <th>7</th>\n",
       "      <td>1.593462</td>\n",
       "      <td>1.742972</td>\n",
       "      <td>1.939717</td>\n",
       "      <td>1.523229</td>\n",
       "      <td>1.170011</td>\n",
       "      <td>7.969391</td>\n",
       "      <td></td>\n",
       "    </tr>\n",
       "    <tr>\n",
       "      <th>8</th>\n",
       "      <td>1.848309</td>\n",
       "      <td>1.207522</td>\n",
       "      <td>1.318056</td>\n",
       "      <td>1.680624</td>\n",
       "      <td>1.524873</td>\n",
       "      <td>7.579384</td>\n",
       "      <td></td>\n",
       "    </tr>\n",
       "    <tr>\n",
       "      <th>9</th>\n",
       "      <td>1.894168</td>\n",
       "      <td>1.892013</td>\n",
       "      <td>1.049655</td>\n",
       "      <td>1.128560</td>\n",
       "      <td>1.062107</td>\n",
       "      <td>7.026502</td>\n",
       "      <td></td>\n",
       "    </tr>\n",
       "    <tr>\n",
       "      <th>10</th>\n",
       "      <td>1.752922</td>\n",
       "      <td>1.235037</td>\n",
       "      <td>1.427089</td>\n",
       "      <td>1.591574</td>\n",
       "      <td>1.653882</td>\n",
       "      <td>7.660504</td>\n",
       "      <td></td>\n",
       "    </tr>\n",
       "    <tr>\n",
       "      <th>11</th>\n",
       "      <td>1.346373</td>\n",
       "      <td>1.495712</td>\n",
       "      <td>1.514877</td>\n",
       "      <td>1.453193</td>\n",
       "      <td>1.438491</td>\n",
       "      <td>7.248647</td>\n",
       "      <td></td>\n",
       "    </tr>\n",
       "    <tr>\n",
       "      <th>12</th>\n",
       "      <td>1.811232</td>\n",
       "      <td>1.202776</td>\n",
       "      <td>1.788586</td>\n",
       "      <td>1.663087</td>\n",
       "      <td>1.997795</td>\n",
       "      <td>8.463476</td>\n",
       "      <td></td>\n",
       "    </tr>\n",
       "    <tr>\n",
       "      <th>13</th>\n",
       "      <td>1.741630</td>\n",
       "      <td>1.522379</td>\n",
       "      <td>1.748871</td>\n",
       "      <td>1.844678</td>\n",
       "      <td>1.038130</td>\n",
       "      <td>7.895687</td>\n",
       "      <td></td>\n",
       "    </tr>\n",
       "    <tr>\n",
       "      <th>14</th>\n",
       "      <td>1.965361</td>\n",
       "      <td>1.533340</td>\n",
       "      <td>1.982800</td>\n",
       "      <td>1.169846</td>\n",
       "      <td>1.339821</td>\n",
       "      <td>7.991168</td>\n",
       "      <td></td>\n",
       "    </tr>\n",
       "    <tr>\n",
       "      <th>15</th>\n",
       "      <td>1.527758</td>\n",
       "      <td>1.247437</td>\n",
       "      <td>1.752009</td>\n",
       "      <td>1.918688</td>\n",
       "      <td>1.051883</td>\n",
       "      <td>7.497776</td>\n",
       "      <td></td>\n",
       "    </tr>\n",
       "    <tr>\n",
       "      <th>16</th>\n",
       "      <td>1.775146</td>\n",
       "      <td>1.068369</td>\n",
       "      <td>1.382196</td>\n",
       "      <td>1.872776</td>\n",
       "      <td>1.532984</td>\n",
       "      <td>7.631470</td>\n",
       "      <td></td>\n",
       "    </tr>\n",
       "    <tr>\n",
       "      <th>17</th>\n",
       "      <td>1.001720</td>\n",
       "      <td>1.405973</td>\n",
       "      <td>1.136264</td>\n",
       "      <td>1.699858</td>\n",
       "      <td>1.320699</td>\n",
       "      <td>6.564514</td>\n",
       "      <td></td>\n",
       "    </tr>\n",
       "    <tr>\n",
       "      <th>18</th>\n",
       "      <td>1.082874</td>\n",
       "      <td>1.423058</td>\n",
       "      <td>1.737807</td>\n",
       "      <td>1.186124</td>\n",
       "      <td>1.744869</td>\n",
       "      <td>7.174732</td>\n",
       "      <td></td>\n",
       "    </tr>\n",
       "    <tr>\n",
       "      <th>19</th>\n",
       "      <td>1.661104</td>\n",
       "      <td>1.263369</td>\n",
       "      <td>1.257598</td>\n",
       "      <td>1.861485</td>\n",
       "      <td>1.521210</td>\n",
       "      <td>7.564766</td>\n",
       "      <td></td>\n",
       "    </tr>\n",
       "  </tbody>\n",
       "</table>\n",
       "</div>"
      ],
      "text/plain": [
       "           a         b         c         d         e         f g\n",
       "0   1.767348  1.277147  1.542009  1.627667  1.199746  7.413917  \n",
       "1   1.760754  1.836151  1.112620  1.825114  1.692182  8.226822  \n",
       "2   1.876210  1.437970  1.673533  1.556260  1.239259  7.783231  \n",
       "3   1.021911  1.131281  1.637174  1.329583  1.980253  7.100202  \n",
       "4   1.190821  1.095515  1.045632  1.188657  1.094742  5.615368  \n",
       "5   1.043304  1.095803  1.794303  1.881403  1.116793  6.931606  \n",
       "6   1.301217  1.787088  1.595969  1.617029  1.715832  8.017135  \n",
       "7   1.593462  1.742972  1.939717  1.523229  1.170011  7.969391  \n",
       "8   1.848309  1.207522  1.318056  1.680624  1.524873  7.579384  \n",
       "9   1.894168  1.892013  1.049655  1.128560  1.062107  7.026502  \n",
       "10  1.752922  1.235037  1.427089  1.591574  1.653882  7.660504  \n",
       "11  1.346373  1.495712  1.514877  1.453193  1.438491  7.248647  \n",
       "12  1.811232  1.202776  1.788586  1.663087  1.997795  8.463476  \n",
       "13  1.741630  1.522379  1.748871  1.844678  1.038130  7.895687  \n",
       "14  1.965361  1.533340  1.982800  1.169846  1.339821  7.991168  \n",
       "15  1.527758  1.247437  1.752009  1.918688  1.051883  7.497776  \n",
       "16  1.775146  1.068369  1.382196  1.872776  1.532984  7.631470  \n",
       "17  1.001720  1.405973  1.136264  1.699858  1.320699  6.564514  \n",
       "18  1.082874  1.423058  1.737807  1.186124  1.744869  7.174732  \n",
       "19  1.661104  1.263369  1.257598  1.861485  1.521210  7.564766  "
      ]
     },
     "execution_count": 21,
     "metadata": {},
     "output_type": "execute_result"
    }
   ],
   "source": [
    "df['f'] = df_T.sum()\n",
    "df['g'] = ''\n",
    "df"
   ]
  },
  {
   "cell_type": "markdown",
   "metadata": {
    "id": "uxzGK5CAxdG-"
   },
   "source": [
    "Using `df.loc` to select those rows that satisfy the given condition, further filtering to select only the `g` column."
   ]
  },
  {
   "cell_type": "code",
   "execution_count": 22,
   "metadata": {
    "colab": {
     "base_uri": "https://localhost:8080/",
     "height": 677
    },
    "id": "KyAXuU8YcTKE",
    "outputId": "b4423b16-5365-4f65-b4ca-c46410db96fb"
   },
   "outputs": [
    {
     "data": {
      "text/html": [
       "<div>\n",
       "<style scoped>\n",
       "    .dataframe tbody tr th:only-of-type {\n",
       "        vertical-align: middle;\n",
       "    }\n",
       "\n",
       "    .dataframe tbody tr th {\n",
       "        vertical-align: top;\n",
       "    }\n",
       "\n",
       "    .dataframe thead th {\n",
       "        text-align: right;\n",
       "    }\n",
       "</style>\n",
       "<table border=\"1\" class=\"dataframe\">\n",
       "  <thead>\n",
       "    <tr style=\"text-align: right;\">\n",
       "      <th></th>\n",
       "      <th>a</th>\n",
       "      <th>b</th>\n",
       "      <th>c</th>\n",
       "      <th>d</th>\n",
       "      <th>e</th>\n",
       "      <th>f</th>\n",
       "      <th>g</th>\n",
       "    </tr>\n",
       "  </thead>\n",
       "  <tbody>\n",
       "    <tr>\n",
       "      <th>0</th>\n",
       "      <td>1.767348</td>\n",
       "      <td>1.277147</td>\n",
       "      <td>1.542009</td>\n",
       "      <td>1.627667</td>\n",
       "      <td>1.199746</td>\n",
       "      <td>7.413917</td>\n",
       "      <td>LT8</td>\n",
       "    </tr>\n",
       "    <tr>\n",
       "      <th>1</th>\n",
       "      <td>1.760754</td>\n",
       "      <td>1.836151</td>\n",
       "      <td>1.112620</td>\n",
       "      <td>1.825114</td>\n",
       "      <td>1.692182</td>\n",
       "      <td>8.226822</td>\n",
       "      <td>GT8</td>\n",
       "    </tr>\n",
       "    <tr>\n",
       "      <th>2</th>\n",
       "      <td>1.876210</td>\n",
       "      <td>1.437970</td>\n",
       "      <td>1.673533</td>\n",
       "      <td>1.556260</td>\n",
       "      <td>1.239259</td>\n",
       "      <td>7.783231</td>\n",
       "      <td>LT8</td>\n",
       "    </tr>\n",
       "    <tr>\n",
       "      <th>3</th>\n",
       "      <td>1.021911</td>\n",
       "      <td>1.131281</td>\n",
       "      <td>1.637174</td>\n",
       "      <td>1.329583</td>\n",
       "      <td>1.980253</td>\n",
       "      <td>7.100202</td>\n",
       "      <td>LT8</td>\n",
       "    </tr>\n",
       "    <tr>\n",
       "      <th>4</th>\n",
       "      <td>1.190821</td>\n",
       "      <td>1.095515</td>\n",
       "      <td>1.045632</td>\n",
       "      <td>1.188657</td>\n",
       "      <td>1.094742</td>\n",
       "      <td>5.615368</td>\n",
       "      <td>LT8</td>\n",
       "    </tr>\n",
       "    <tr>\n",
       "      <th>5</th>\n",
       "      <td>1.043304</td>\n",
       "      <td>1.095803</td>\n",
       "      <td>1.794303</td>\n",
       "      <td>1.881403</td>\n",
       "      <td>1.116793</td>\n",
       "      <td>6.931606</td>\n",
       "      <td>LT8</td>\n",
       "    </tr>\n",
       "    <tr>\n",
       "      <th>6</th>\n",
       "      <td>1.301217</td>\n",
       "      <td>1.787088</td>\n",
       "      <td>1.595969</td>\n",
       "      <td>1.617029</td>\n",
       "      <td>1.715832</td>\n",
       "      <td>8.017135</td>\n",
       "      <td>GT8</td>\n",
       "    </tr>\n",
       "    <tr>\n",
       "      <th>7</th>\n",
       "      <td>1.593462</td>\n",
       "      <td>1.742972</td>\n",
       "      <td>1.939717</td>\n",
       "      <td>1.523229</td>\n",
       "      <td>1.170011</td>\n",
       "      <td>7.969391</td>\n",
       "      <td>LT8</td>\n",
       "    </tr>\n",
       "    <tr>\n",
       "      <th>8</th>\n",
       "      <td>1.848309</td>\n",
       "      <td>1.207522</td>\n",
       "      <td>1.318056</td>\n",
       "      <td>1.680624</td>\n",
       "      <td>1.524873</td>\n",
       "      <td>7.579384</td>\n",
       "      <td>LT8</td>\n",
       "    </tr>\n",
       "    <tr>\n",
       "      <th>9</th>\n",
       "      <td>1.894168</td>\n",
       "      <td>1.892013</td>\n",
       "      <td>1.049655</td>\n",
       "      <td>1.128560</td>\n",
       "      <td>1.062107</td>\n",
       "      <td>7.026502</td>\n",
       "      <td>LT8</td>\n",
       "    </tr>\n",
       "    <tr>\n",
       "      <th>10</th>\n",
       "      <td>1.752922</td>\n",
       "      <td>1.235037</td>\n",
       "      <td>1.427089</td>\n",
       "      <td>1.591574</td>\n",
       "      <td>1.653882</td>\n",
       "      <td>7.660504</td>\n",
       "      <td>LT8</td>\n",
       "    </tr>\n",
       "    <tr>\n",
       "      <th>11</th>\n",
       "      <td>1.346373</td>\n",
       "      <td>1.495712</td>\n",
       "      <td>1.514877</td>\n",
       "      <td>1.453193</td>\n",
       "      <td>1.438491</td>\n",
       "      <td>7.248647</td>\n",
       "      <td>LT8</td>\n",
       "    </tr>\n",
       "    <tr>\n",
       "      <th>12</th>\n",
       "      <td>1.811232</td>\n",
       "      <td>1.202776</td>\n",
       "      <td>1.788586</td>\n",
       "      <td>1.663087</td>\n",
       "      <td>1.997795</td>\n",
       "      <td>8.463476</td>\n",
       "      <td>GT8</td>\n",
       "    </tr>\n",
       "    <tr>\n",
       "      <th>13</th>\n",
       "      <td>1.741630</td>\n",
       "      <td>1.522379</td>\n",
       "      <td>1.748871</td>\n",
       "      <td>1.844678</td>\n",
       "      <td>1.038130</td>\n",
       "      <td>7.895687</td>\n",
       "      <td>LT8</td>\n",
       "    </tr>\n",
       "    <tr>\n",
       "      <th>14</th>\n",
       "      <td>1.965361</td>\n",
       "      <td>1.533340</td>\n",
       "      <td>1.982800</td>\n",
       "      <td>1.169846</td>\n",
       "      <td>1.339821</td>\n",
       "      <td>7.991168</td>\n",
       "      <td>LT8</td>\n",
       "    </tr>\n",
       "    <tr>\n",
       "      <th>15</th>\n",
       "      <td>1.527758</td>\n",
       "      <td>1.247437</td>\n",
       "      <td>1.752009</td>\n",
       "      <td>1.918688</td>\n",
       "      <td>1.051883</td>\n",
       "      <td>7.497776</td>\n",
       "      <td>LT8</td>\n",
       "    </tr>\n",
       "    <tr>\n",
       "      <th>16</th>\n",
       "      <td>1.775146</td>\n",
       "      <td>1.068369</td>\n",
       "      <td>1.382196</td>\n",
       "      <td>1.872776</td>\n",
       "      <td>1.532984</td>\n",
       "      <td>7.631470</td>\n",
       "      <td>LT8</td>\n",
       "    </tr>\n",
       "    <tr>\n",
       "      <th>17</th>\n",
       "      <td>1.001720</td>\n",
       "      <td>1.405973</td>\n",
       "      <td>1.136264</td>\n",
       "      <td>1.699858</td>\n",
       "      <td>1.320699</td>\n",
       "      <td>6.564514</td>\n",
       "      <td>LT8</td>\n",
       "    </tr>\n",
       "    <tr>\n",
       "      <th>18</th>\n",
       "      <td>1.082874</td>\n",
       "      <td>1.423058</td>\n",
       "      <td>1.737807</td>\n",
       "      <td>1.186124</td>\n",
       "      <td>1.744869</td>\n",
       "      <td>7.174732</td>\n",
       "      <td>LT8</td>\n",
       "    </tr>\n",
       "    <tr>\n",
       "      <th>19</th>\n",
       "      <td>1.661104</td>\n",
       "      <td>1.263369</td>\n",
       "      <td>1.257598</td>\n",
       "      <td>1.861485</td>\n",
       "      <td>1.521210</td>\n",
       "      <td>7.564766</td>\n",
       "      <td>LT8</td>\n",
       "    </tr>\n",
       "  </tbody>\n",
       "</table>\n",
       "</div>"
      ],
      "text/plain": [
       "           a         b         c         d         e         f    g\n",
       "0   1.767348  1.277147  1.542009  1.627667  1.199746  7.413917  LT8\n",
       "1   1.760754  1.836151  1.112620  1.825114  1.692182  8.226822  GT8\n",
       "2   1.876210  1.437970  1.673533  1.556260  1.239259  7.783231  LT8\n",
       "3   1.021911  1.131281  1.637174  1.329583  1.980253  7.100202  LT8\n",
       "4   1.190821  1.095515  1.045632  1.188657  1.094742  5.615368  LT8\n",
       "5   1.043304  1.095803  1.794303  1.881403  1.116793  6.931606  LT8\n",
       "6   1.301217  1.787088  1.595969  1.617029  1.715832  8.017135  GT8\n",
       "7   1.593462  1.742972  1.939717  1.523229  1.170011  7.969391  LT8\n",
       "8   1.848309  1.207522  1.318056  1.680624  1.524873  7.579384  LT8\n",
       "9   1.894168  1.892013  1.049655  1.128560  1.062107  7.026502  LT8\n",
       "10  1.752922  1.235037  1.427089  1.591574  1.653882  7.660504  LT8\n",
       "11  1.346373  1.495712  1.514877  1.453193  1.438491  7.248647  LT8\n",
       "12  1.811232  1.202776  1.788586  1.663087  1.997795  8.463476  GT8\n",
       "13  1.741630  1.522379  1.748871  1.844678  1.038130  7.895687  LT8\n",
       "14  1.965361  1.533340  1.982800  1.169846  1.339821  7.991168  LT8\n",
       "15  1.527758  1.247437  1.752009  1.918688  1.051883  7.497776  LT8\n",
       "16  1.775146  1.068369  1.382196  1.872776  1.532984  7.631470  LT8\n",
       "17  1.001720  1.405973  1.136264  1.699858  1.320699  6.564514  LT8\n",
       "18  1.082874  1.423058  1.737807  1.186124  1.744869  7.174732  LT8\n",
       "19  1.661104  1.263369  1.257598  1.861485  1.521210  7.564766  LT8"
      ]
     },
     "execution_count": 22,
     "metadata": {},
     "output_type": "execute_result"
    }
   ],
   "source": [
    "df.loc[df['f'] < 8, ['g']] = 'LT8'\n",
    "df.loc[df['f'] >= 8, ['g']] = 'GT8'\n",
    "df"
   ]
  },
  {
   "cell_type": "markdown",
   "metadata": {
    "id": "9ni4AajTxMTX"
   },
   "source": [
    "The number of rows in the dataframe where the value in the column `g` is `'LT8'` can be found using"
   ]
  },
  {
   "cell_type": "code",
   "execution_count": 23,
   "metadata": {
    "colab": {
     "base_uri": "https://localhost:8080/"
    },
    "id": "uo8O7aptcfQK",
    "outputId": "6408cdf2-9a34-4afb-a53f-e770048757d7"
   },
   "outputs": [
    {
     "data": {
      "text/plain": [
       "17"
      ]
     },
     "execution_count": 23,
     "metadata": {},
     "output_type": "execute_result"
    }
   ],
   "source": [
    "df.loc[df['g'] == 'LT8'].shape[0]"
   ]
  },
  {
   "cell_type": "markdown",
   "metadata": {
    "id": "CIMDTc_HxxTI"
   },
   "source": [
    "The standard deviation of the column `f` for the rows where the value in the column `g` is `'LT8'` and `'GT8'` is  "
   ]
  },
  {
   "cell_type": "code",
   "execution_count": 24,
   "metadata": {
    "colab": {
     "base_uri": "https://localhost:8080/"
    },
    "id": "EwXVPSpGwa4h",
    "outputId": "ce290864-7035-4d03-9cc2-b806717eef50"
   },
   "outputs": [
    {
     "name": "stdout",
     "output_type": "stream",
     "text": [
      "for 'LT8'  0.5907731139544694\n",
      "for 'GT8'  0.22330627116918572\n"
     ]
    }
   ],
   "source": [
    "print(\"for 'LT8' \", float(np.sqrt(df.loc[df['g'] == 'LT8', ['f']].var())))\n",
    "print(\"for 'GT8' \", float(np.sqrt(df.loc[df['g'] == 'GT8', ['f']].var())))"
   ]
  },
  {
   "cell_type": "markdown",
   "metadata": {
    "id": "6Sr_UGy61nxF"
   },
   "source": [
    "### Answer 12\n",
    "\n",
    "When the shapes of two `np.ndarray` is not the same, but it is possible to extend one to fit the shape of the other by simply extending the n-D array in some dimension in a trivial manner, this is called **Broadcasting**. For example, consider a matrix $A$ of shape `(3,4)` and a column vector $b$ of shape `(3,1)`."
   ]
  },
  {
   "cell_type": "code",
   "execution_count": 25,
   "metadata": {
    "colab": {
     "base_uri": "https://localhost:8080/"
    },
    "id": "A8aFylMaAHt7",
    "outputId": "7ce25582-8122-456f-f691-4a24a446d49a"
   },
   "outputs": [
    {
     "name": "stdout",
     "output_type": "stream",
     "text": [
      "[[  1   9   1  -9]\n",
      " [ -2  -4  -5 -10]\n",
      " [  8  -8  -6  -1]]\n",
      "A.shape = (3, 4)\n",
      "\n",
      "[[ 0]\n",
      " [-8]\n",
      " [-4]]\n",
      "b.shape = (3, 1)\n"
     ]
    }
   ],
   "source": [
    "A = np.random.randint(-10, 10, (3, 4))\n",
    "b = np.random.randint(-10, 10, (3, 1))\n",
    "print(A)\n",
    "print(\"A.shape =\", A.shape, end='\\n\\n')\n",
    "print(b)\n",
    "print(\"b.shape =\", b.shape)"
   ]
  },
  {
   "cell_type": "markdown",
   "metadata": {
    "id": "m_OZ9mmvAIKe"
   },
   "source": [
    "Adding them is not directly possible but there is an obvious way in which the $b$ vector can be extended to fit the shape of the matrix; just duplicate the column three more times to get a matrix. Let's call it $B$. `numpy` implicity does this when adding them together. However, we can explicitly do this using the function `np.broadcast_to` that allows us to broadcast"
   ]
  },
  {
   "cell_type": "code",
   "execution_count": 26,
   "metadata": {
    "colab": {
     "base_uri": "https://localhost:8080/"
    },
    "id": "cSXjII7O1szu",
    "outputId": "23416667-0f78-4cf0-95a5-721ef067eeed"
   },
   "outputs": [
    {
     "name": "stdout",
     "output_type": "stream",
     "text": [
      "B\n",
      "[[ 0  0  0  0]\n",
      " [-8 -8 -8 -8]\n",
      " [-4 -4 -4 -4]]\n",
      "A + b\n",
      "[[  1   9   1  -9]\n",
      " [-10 -12 -13 -18]\n",
      " [  4 -12 -10  -5]]\n",
      "Is A + b == A + B ? True\n"
     ]
    }
   ],
   "source": [
    "B = np.broadcast_to(b, A.shape)\n",
    "print('B')\n",
    "print(B)\n",
    "print('A + b')\n",
    "print(A + b)\n",
    "print('Is A + b == A + B ?', np.all(A + b == A + B))"
   ]
  },
  {
   "cell_type": "markdown",
   "metadata": {
    "id": "j5a9hYRECU3g"
   },
   "source": [
    "If $b$ were a 1-D array, numpy will throw an error as it will not implicity add another dimension."
   ]
  },
  {
   "cell_type": "code",
   "execution_count": 27,
   "metadata": {
    "colab": {
     "base_uri": "https://localhost:8080/"
    },
    "id": "NqHFBc2iBjgc",
    "outputId": "54403be0-598e-41ba-d517-d8b041a71140"
   },
   "outputs": [
    {
     "name": "stdout",
     "output_type": "stream",
     "text": [
      "operands could not be broadcast together with shapes (3,4) (3,) \n"
     ]
    }
   ],
   "source": [
    "b = np.random.randint(-10, 10, (3, ))\n",
    "try:\n",
    "    A + b\n",
    "except ValueError as e:\n",
    "    print(e)"
   ]
  },
  {
   "cell_type": "markdown",
   "metadata": {
    "id": "MEtcBRYoDcGn"
   },
   "source": [
    "As another example, consider a vector $b$ that has shape `(3, 1, 1)` and a 3-D array $A$ of shape `(3, 2, 4)`"
   ]
  },
  {
   "cell_type": "code",
   "execution_count": 28,
   "metadata": {
    "colab": {
     "base_uri": "https://localhost:8080/"
    },
    "id": "eKpkagqWEMxQ",
    "outputId": "413517c9-3cdd-4b14-8556-043dded9bfff"
   },
   "outputs": [
    {
     "name": "stdout",
     "output_type": "stream",
     "text": [
      "[[[ -4   6  -4   7]\n",
      "  [ -6  -6  -6  -7]]\n",
      "\n",
      " [[ -5  -5   3   1]\n",
      "  [  0  -2  -6  -3]]\n",
      "\n",
      " [[-10  -8 -10   3]\n",
      "  [ -9  -9  -8  -4]]]\n",
      "[[[-1]]\n",
      "\n",
      " [[ 7]]\n",
      "\n",
      " [[-9]]]\n"
     ]
    }
   ],
   "source": [
    "A = np.random.randint(-10, 10, (3, 2, 4))\n",
    "b = np.random.randint(-10, 10, (3, 1, 1))\n",
    "print(A)\n",
    "print(b)"
   ]
  },
  {
   "cell_type": "code",
   "execution_count": 29,
   "metadata": {
    "colab": {
     "base_uri": "https://localhost:8080/"
    },
    "id": "jnyUh43xEjJs",
    "outputId": "6e6f34b2-1476-4a93-93a0-aac14b93a982"
   },
   "outputs": [
    {
     "data": {
      "text/plain": [
       "array([[[ -5,   5,  -5,   6],\n",
       "        [ -7,  -7,  -7,  -8]],\n",
       "\n",
       "       [[  2,   2,  10,   8],\n",
       "        [  7,   5,   1,   4]],\n",
       "\n",
       "       [[-19, -17, -19,  -6],\n",
       "        [-18, -18, -17, -13]]])"
      ]
     },
     "execution_count": 29,
     "metadata": {},
     "output_type": "execute_result"
    }
   ],
   "source": [
    "A + b"
   ]
  },
  {
   "cell_type": "markdown",
   "metadata": {
    "id": "4S7LgRv8EpSQ"
   },
   "source": [
    "It is clear what numpy does, it broadcasts $b$ to the shape of $A$ in the most natural way."
   ]
  },
  {
   "cell_type": "code",
   "execution_count": 31,
   "metadata": {
    "colab": {
     "base_uri": "https://localhost:8080/"
    },
    "id": "tkqQ2R-OEzhy",
    "outputId": "a1b92d7c-a358-4b24-e5a0-75106216165f"
   },
   "outputs": [
    {
     "data": {
      "text/plain": [
       "array([[[-1, -1, -1, -1],\n",
       "        [-1, -1, -1, -1]],\n",
       "\n",
       "       [[ 7,  7,  7,  7],\n",
       "        [ 7,  7,  7,  7]],\n",
       "\n",
       "       [[-9, -9, -9, -9],\n",
       "        [-9, -9, -9, -9]]])"
      ]
     },
     "execution_count": 31,
     "metadata": {},
     "output_type": "execute_result"
    }
   ],
   "source": [
    "np.broadcast_to(b, A.shape)"
   ]
  },
  {
   "cell_type": "markdown",
   "metadata": {
    "id": "3fE0MhKTrIyX"
   },
   "source": [
    "Let us look at an example where numpy fails to do the broadcasting."
   ]
  },
  {
   "cell_type": "code",
   "execution_count": 32,
   "metadata": {
    "colab": {
     "base_uri": "https://localhost:8080/"
    },
    "id": "1HSHKo4HE-i_",
    "outputId": "b0f244ee-1e17-4334-f1e2-369883637ed6"
   },
   "outputs": [
    {
     "name": "stdout",
     "output_type": "stream",
     "text": [
      "[[[  9  -3  -3   4]\n",
      "  [ -4 -10  -9   4]\n",
      "  [ -3   2  -6   8]]\n",
      "\n",
      " [[ -7  -6  -4  -2]\n",
      "  [ -5   2  -8   5]\n",
      "  [  8   8  -2   8]]]\n",
      "[[[5]]\n",
      "\n",
      " [[1]]\n",
      "\n",
      " [[3]]]\n"
     ]
    }
   ],
   "source": [
    "A = np.random.randint(-10, 10, (2, 3, 4))\n",
    "b = np.random.randint(-10, 10, (3, 1, 1))\n",
    "print(A)\n",
    "print(b)"
   ]
  },
  {
   "cell_type": "code",
   "execution_count": 33,
   "metadata": {
    "colab": {
     "base_uri": "https://localhost:8080/"
    },
    "id": "2DsoxJFcFrOV",
    "outputId": "e0dc7c8b-34f2-4eef-a08a-bf37840ddaff"
   },
   "outputs": [
    {
     "name": "stdout",
     "output_type": "stream",
     "text": [
      "operands could not be broadcast together with shapes (2,3,4) (3,1,1) \n"
     ]
    }
   ],
   "source": [
    "try:\n",
    "    A + b\n",
    "except ValueError as e:\n",
    "    print(e)"
   ]
  },
  {
   "cell_type": "markdown",
   "metadata": {
    "id": "Y49oYj-NF4ha"
   },
   "source": [
    "Thus, numpy implicitly broadcasts arrays when all their dimensions are compatible, either they are equal or one of them is 1. In this case, 2 and 3 are not compatible."
   ]
  },
  {
   "cell_type": "markdown",
   "metadata": {
    "id": "yHua55hhzCH8"
   },
   "source": [
    "### Answer 13\n",
    "\n",
    "Implementing the default behavior of `np.argmin` that returns the linear index into a nD-array."
   ]
  },
  {
   "cell_type": "code",
   "execution_count": 34,
   "metadata": {
    "id": "12UyNnEA0nHQ"
   },
   "outputs": [],
   "source": [
    "def my_argmin(z):\n",
    "    ''' z is a numpy array '''\n",
    "    z_flat = list(z.flatten())\n",
    "    return z_flat.index(min(z_flat))"
   ]
  },
  {
   "cell_type": "code",
   "execution_count": 35,
   "metadata": {
    "colab": {
     "base_uri": "https://localhost:8080/"
    },
    "id": "Q8dGsTui1EQL",
    "outputId": "55712355-fa92-4027-a451-56d21e02c61c"
   },
   "outputs": [
    {
     "data": {
      "text/plain": [
       "True"
      ]
     },
     "execution_count": 35,
     "metadata": {},
     "output_type": "execute_result"
    }
   ],
   "source": [
    "Z = np.random.randint(-100, 100, (5, 5))\n",
    "my_argmin(Z) == np.argmin(Z)"
   ]
  }
 ],
 "metadata": {
  "colab": {
   "collapsed_sections": [
    "Cp_TqpM6wP7H",
    "iF20P-t1zyXK",
    "d_Wj6WM8BBqJ",
    "FJEJo6gdmS2_",
    "1HS-BGfBr_gf",
    "1ZQoZdYbsW-B",
    "7sjZ_DLxHViu",
    "2fKb0hnaaJi5",
    "3PFsqZ98HHkF",
    "wSNFh3DqMzwY",
    "lBBS5A9PvvWP",
    "6Sr_UGy61nxF",
    "yHua55hhzCH8"
   ],
   "provenance": []
  },
  "kernelspec": {
   "display_name": "Python 3 (ipykernel)",
   "language": "python",
   "name": "python3"
  },
  "language_info": {
   "codemirror_mode": {
    "name": "ipython",
    "version": 3
   },
   "file_extension": ".py",
   "mimetype": "text/x-python",
   "name": "python",
   "nbconvert_exporter": "python",
   "pygments_lexer": "ipython3",
   "version": "3.10.9"
  }
 },
 "nbformat": 4,
 "nbformat_minor": 1
}
